{
  "nbformat": 4,
  "nbformat_minor": 0,
  "metadata": {
    "colab": {
      "provenance": []
    },
    "kernelspec": {
      "name": "python3",
      "display_name": "Python 3"
    },
    "language_info": {
      "name": "python"
    }
  },
  "cells": [
    {
      "cell_type": "markdown",
      "source": [
        "# Recommendation System\n"
      ],
      "metadata": {
        "id": "C3-6O76a7rL2"
      }
    },
    {
      "cell_type": "markdown",
      "source": [
        "Data Preprocessing:\n"
      ],
      "metadata": {
        "id": "vHBfEPKR7rzg"
      }
    },
    {
      "cell_type": "code",
      "execution_count": null,
      "metadata": {
        "id": "AagXg7gzbhhY"
      },
      "outputs": [],
      "source": [
        "import pandas as pd\n",
        "import numpy as np\n",
        "from sklearn.preprocessing import MultiLabelBinarizer, MinMaxScaler\n"
      ]
    },
    {
      "cell_type": "code",
      "source": [
        "dataset = pd.read_csv('anime.csv')"
      ],
      "metadata": {
        "id": "zrji_yHY4xQn"
      },
      "execution_count": null,
      "outputs": []
    },
    {
      "cell_type": "code",
      "source": [
        "df = pd.DataFrame(dataset)"
      ],
      "metadata": {
        "id": "McBAKCqB4xOA"
      },
      "execution_count": null,
      "outputs": []
    },
    {
      "cell_type": "code",
      "source": [
        "df"
      ],
      "metadata": {
        "colab": {
          "base_uri": "https://localhost:8080/",
          "height": 649
        },
        "id": "Dgj5IcPP4xK4",
        "outputId": "edecd2a1-3f6b-4848-a282-4c67f5b4a840"
      },
      "execution_count": null,
      "outputs": [
        {
          "output_type": "execute_result",
          "data": {
            "text/plain": [
              "       anime_id                                               name  \\\n",
              "0         32281                                     Kimi no Na wa.   \n",
              "1          5114                   Fullmetal Alchemist: Brotherhood   \n",
              "2         28977                                           Gintama°   \n",
              "3          9253                                        Steins;Gate   \n",
              "4          9969                                      Gintama&#039;   \n",
              "...         ...                                                ...   \n",
              "12289      9316       Toushindai My Lover: Minami tai Mecha-Minami   \n",
              "12290      5543                                        Under World   \n",
              "12291      5621                     Violence Gekiga David no Hoshi   \n",
              "12292      6133  Violence Gekiga Shin David no Hoshi: Inma Dens...   \n",
              "12293     26081                   Yasuji no Pornorama: Yacchimae!!   \n",
              "\n",
              "                                                   genre   type episodes  \\\n",
              "0                   Drama, Romance, School, Supernatural  Movie        1   \n",
              "1      Action, Adventure, Drama, Fantasy, Magic, Mili...     TV       64   \n",
              "2      Action, Comedy, Historical, Parody, Samurai, S...     TV       51   \n",
              "3                                       Sci-Fi, Thriller     TV       24   \n",
              "4      Action, Comedy, Historical, Parody, Samurai, S...     TV       51   \n",
              "...                                                  ...    ...      ...   \n",
              "12289                                             Hentai    OVA        1   \n",
              "12290                                             Hentai    OVA        1   \n",
              "12291                                             Hentai    OVA        4   \n",
              "12292                                             Hentai    OVA        1   \n",
              "12293                                             Hentai  Movie        1   \n",
              "\n",
              "       rating  members  \n",
              "0        9.37   200630  \n",
              "1        9.26   793665  \n",
              "2        9.25   114262  \n",
              "3        9.17   673572  \n",
              "4        9.16   151266  \n",
              "...       ...      ...  \n",
              "12289    4.15      211  \n",
              "12290    4.28      183  \n",
              "12291    4.88      219  \n",
              "12292    4.98      175  \n",
              "12293    5.46      142  \n",
              "\n",
              "[12294 rows x 7 columns]"
            ],
            "text/html": [
              "\n",
              "  <div id=\"df-8965e757-43a6-4ac9-97a5-fe91e89451b2\" class=\"colab-df-container\">\n",
              "    <div>\n",
              "<style scoped>\n",
              "    .dataframe tbody tr th:only-of-type {\n",
              "        vertical-align: middle;\n",
              "    }\n",
              "\n",
              "    .dataframe tbody tr th {\n",
              "        vertical-align: top;\n",
              "    }\n",
              "\n",
              "    .dataframe thead th {\n",
              "        text-align: right;\n",
              "    }\n",
              "</style>\n",
              "<table border=\"1\" class=\"dataframe\">\n",
              "  <thead>\n",
              "    <tr style=\"text-align: right;\">\n",
              "      <th></th>\n",
              "      <th>anime_id</th>\n",
              "      <th>name</th>\n",
              "      <th>genre</th>\n",
              "      <th>type</th>\n",
              "      <th>episodes</th>\n",
              "      <th>rating</th>\n",
              "      <th>members</th>\n",
              "    </tr>\n",
              "  </thead>\n",
              "  <tbody>\n",
              "    <tr>\n",
              "      <th>0</th>\n",
              "      <td>32281</td>\n",
              "      <td>Kimi no Na wa.</td>\n",
              "      <td>Drama, Romance, School, Supernatural</td>\n",
              "      <td>Movie</td>\n",
              "      <td>1</td>\n",
              "      <td>9.37</td>\n",
              "      <td>200630</td>\n",
              "    </tr>\n",
              "    <tr>\n",
              "      <th>1</th>\n",
              "      <td>5114</td>\n",
              "      <td>Fullmetal Alchemist: Brotherhood</td>\n",
              "      <td>Action, Adventure, Drama, Fantasy, Magic, Mili...</td>\n",
              "      <td>TV</td>\n",
              "      <td>64</td>\n",
              "      <td>9.26</td>\n",
              "      <td>793665</td>\n",
              "    </tr>\n",
              "    <tr>\n",
              "      <th>2</th>\n",
              "      <td>28977</td>\n",
              "      <td>Gintama°</td>\n",
              "      <td>Action, Comedy, Historical, Parody, Samurai, S...</td>\n",
              "      <td>TV</td>\n",
              "      <td>51</td>\n",
              "      <td>9.25</td>\n",
              "      <td>114262</td>\n",
              "    </tr>\n",
              "    <tr>\n",
              "      <th>3</th>\n",
              "      <td>9253</td>\n",
              "      <td>Steins;Gate</td>\n",
              "      <td>Sci-Fi, Thriller</td>\n",
              "      <td>TV</td>\n",
              "      <td>24</td>\n",
              "      <td>9.17</td>\n",
              "      <td>673572</td>\n",
              "    </tr>\n",
              "    <tr>\n",
              "      <th>4</th>\n",
              "      <td>9969</td>\n",
              "      <td>Gintama&amp;#039;</td>\n",
              "      <td>Action, Comedy, Historical, Parody, Samurai, S...</td>\n",
              "      <td>TV</td>\n",
              "      <td>51</td>\n",
              "      <td>9.16</td>\n",
              "      <td>151266</td>\n",
              "    </tr>\n",
              "    <tr>\n",
              "      <th>...</th>\n",
              "      <td>...</td>\n",
              "      <td>...</td>\n",
              "      <td>...</td>\n",
              "      <td>...</td>\n",
              "      <td>...</td>\n",
              "      <td>...</td>\n",
              "      <td>...</td>\n",
              "    </tr>\n",
              "    <tr>\n",
              "      <th>12289</th>\n",
              "      <td>9316</td>\n",
              "      <td>Toushindai My Lover: Minami tai Mecha-Minami</td>\n",
              "      <td>Hentai</td>\n",
              "      <td>OVA</td>\n",
              "      <td>1</td>\n",
              "      <td>4.15</td>\n",
              "      <td>211</td>\n",
              "    </tr>\n",
              "    <tr>\n",
              "      <th>12290</th>\n",
              "      <td>5543</td>\n",
              "      <td>Under World</td>\n",
              "      <td>Hentai</td>\n",
              "      <td>OVA</td>\n",
              "      <td>1</td>\n",
              "      <td>4.28</td>\n",
              "      <td>183</td>\n",
              "    </tr>\n",
              "    <tr>\n",
              "      <th>12291</th>\n",
              "      <td>5621</td>\n",
              "      <td>Violence Gekiga David no Hoshi</td>\n",
              "      <td>Hentai</td>\n",
              "      <td>OVA</td>\n",
              "      <td>4</td>\n",
              "      <td>4.88</td>\n",
              "      <td>219</td>\n",
              "    </tr>\n",
              "    <tr>\n",
              "      <th>12292</th>\n",
              "      <td>6133</td>\n",
              "      <td>Violence Gekiga Shin David no Hoshi: Inma Dens...</td>\n",
              "      <td>Hentai</td>\n",
              "      <td>OVA</td>\n",
              "      <td>1</td>\n",
              "      <td>4.98</td>\n",
              "      <td>175</td>\n",
              "    </tr>\n",
              "    <tr>\n",
              "      <th>12293</th>\n",
              "      <td>26081</td>\n",
              "      <td>Yasuji no Pornorama: Yacchimae!!</td>\n",
              "      <td>Hentai</td>\n",
              "      <td>Movie</td>\n",
              "      <td>1</td>\n",
              "      <td>5.46</td>\n",
              "      <td>142</td>\n",
              "    </tr>\n",
              "  </tbody>\n",
              "</table>\n",
              "<p>12294 rows × 7 columns</p>\n",
              "</div>\n",
              "    <div class=\"colab-df-buttons\">\n",
              "\n",
              "  <div class=\"colab-df-container\">\n",
              "    <button class=\"colab-df-convert\" onclick=\"convertToInteractive('df-8965e757-43a6-4ac9-97a5-fe91e89451b2')\"\n",
              "            title=\"Convert this dataframe to an interactive table.\"\n",
              "            style=\"display:none;\">\n",
              "\n",
              "  <svg xmlns=\"http://www.w3.org/2000/svg\" height=\"24px\" viewBox=\"0 -960 960 960\">\n",
              "    <path d=\"M120-120v-720h720v720H120Zm60-500h600v-160H180v160Zm220 220h160v-160H400v160Zm0 220h160v-160H400v160ZM180-400h160v-160H180v160Zm440 0h160v-160H620v160ZM180-180h160v-160H180v160Zm440 0h160v-160H620v160Z\"/>\n",
              "  </svg>\n",
              "    </button>\n",
              "\n",
              "  <style>\n",
              "    .colab-df-container {\n",
              "      display:flex;\n",
              "      gap: 12px;\n",
              "    }\n",
              "\n",
              "    .colab-df-convert {\n",
              "      background-color: #E8F0FE;\n",
              "      border: none;\n",
              "      border-radius: 50%;\n",
              "      cursor: pointer;\n",
              "      display: none;\n",
              "      fill: #1967D2;\n",
              "      height: 32px;\n",
              "      padding: 0 0 0 0;\n",
              "      width: 32px;\n",
              "    }\n",
              "\n",
              "    .colab-df-convert:hover {\n",
              "      background-color: #E2EBFA;\n",
              "      box-shadow: 0px 1px 2px rgba(60, 64, 67, 0.3), 0px 1px 3px 1px rgba(60, 64, 67, 0.15);\n",
              "      fill: #174EA6;\n",
              "    }\n",
              "\n",
              "    .colab-df-buttons div {\n",
              "      margin-bottom: 4px;\n",
              "    }\n",
              "\n",
              "    [theme=dark] .colab-df-convert {\n",
              "      background-color: #3B4455;\n",
              "      fill: #D2E3FC;\n",
              "    }\n",
              "\n",
              "    [theme=dark] .colab-df-convert:hover {\n",
              "      background-color: #434B5C;\n",
              "      box-shadow: 0px 1px 3px 1px rgba(0, 0, 0, 0.15);\n",
              "      filter: drop-shadow(0px 1px 2px rgba(0, 0, 0, 0.3));\n",
              "      fill: #FFFFFF;\n",
              "    }\n",
              "  </style>\n",
              "\n",
              "    <script>\n",
              "      const buttonEl =\n",
              "        document.querySelector('#df-8965e757-43a6-4ac9-97a5-fe91e89451b2 button.colab-df-convert');\n",
              "      buttonEl.style.display =\n",
              "        google.colab.kernel.accessAllowed ? 'block' : 'none';\n",
              "\n",
              "      async function convertToInteractive(key) {\n",
              "        const element = document.querySelector('#df-8965e757-43a6-4ac9-97a5-fe91e89451b2');\n",
              "        const dataTable =\n",
              "          await google.colab.kernel.invokeFunction('convertToInteractive',\n",
              "                                                    [key], {});\n",
              "        if (!dataTable) return;\n",
              "\n",
              "        const docLinkHtml = 'Like what you see? Visit the ' +\n",
              "          '<a target=\"_blank\" href=https://colab.research.google.com/notebooks/data_table.ipynb>data table notebook</a>'\n",
              "          + ' to learn more about interactive tables.';\n",
              "        element.innerHTML = '';\n",
              "        dataTable['output_type'] = 'display_data';\n",
              "        await google.colab.output.renderOutput(dataTable, element);\n",
              "        const docLink = document.createElement('div');\n",
              "        docLink.innerHTML = docLinkHtml;\n",
              "        element.appendChild(docLink);\n",
              "      }\n",
              "    </script>\n",
              "  </div>\n",
              "\n",
              "\n",
              "<div id=\"df-3d7cbe55-22aa-4f79-82d0-3243a5b7c4cb\">\n",
              "  <button class=\"colab-df-quickchart\" onclick=\"quickchart('df-3d7cbe55-22aa-4f79-82d0-3243a5b7c4cb')\"\n",
              "            title=\"Suggest charts\"\n",
              "            style=\"display:none;\">\n",
              "\n",
              "<svg xmlns=\"http://www.w3.org/2000/svg\" height=\"24px\"viewBox=\"0 0 24 24\"\n",
              "     width=\"24px\">\n",
              "    <g>\n",
              "        <path d=\"M19 3H5c-1.1 0-2 .9-2 2v14c0 1.1.9 2 2 2h14c1.1 0 2-.9 2-2V5c0-1.1-.9-2-2-2zM9 17H7v-7h2v7zm4 0h-2V7h2v10zm4 0h-2v-4h2v4z\"/>\n",
              "    </g>\n",
              "</svg>\n",
              "  </button>\n",
              "\n",
              "<style>\n",
              "  .colab-df-quickchart {\n",
              "      --bg-color: #E8F0FE;\n",
              "      --fill-color: #1967D2;\n",
              "      --hover-bg-color: #E2EBFA;\n",
              "      --hover-fill-color: #174EA6;\n",
              "      --disabled-fill-color: #AAA;\n",
              "      --disabled-bg-color: #DDD;\n",
              "  }\n",
              "\n",
              "  [theme=dark] .colab-df-quickchart {\n",
              "      --bg-color: #3B4455;\n",
              "      --fill-color: #D2E3FC;\n",
              "      --hover-bg-color: #434B5C;\n",
              "      --hover-fill-color: #FFFFFF;\n",
              "      --disabled-bg-color: #3B4455;\n",
              "      --disabled-fill-color: #666;\n",
              "  }\n",
              "\n",
              "  .colab-df-quickchart {\n",
              "    background-color: var(--bg-color);\n",
              "    border: none;\n",
              "    border-radius: 50%;\n",
              "    cursor: pointer;\n",
              "    display: none;\n",
              "    fill: var(--fill-color);\n",
              "    height: 32px;\n",
              "    padding: 0;\n",
              "    width: 32px;\n",
              "  }\n",
              "\n",
              "  .colab-df-quickchart:hover {\n",
              "    background-color: var(--hover-bg-color);\n",
              "    box-shadow: 0 1px 2px rgba(60, 64, 67, 0.3), 0 1px 3px 1px rgba(60, 64, 67, 0.15);\n",
              "    fill: var(--button-hover-fill-color);\n",
              "  }\n",
              "\n",
              "  .colab-df-quickchart-complete:disabled,\n",
              "  .colab-df-quickchart-complete:disabled:hover {\n",
              "    background-color: var(--disabled-bg-color);\n",
              "    fill: var(--disabled-fill-color);\n",
              "    box-shadow: none;\n",
              "  }\n",
              "\n",
              "  .colab-df-spinner {\n",
              "    border: 2px solid var(--fill-color);\n",
              "    border-color: transparent;\n",
              "    border-bottom-color: var(--fill-color);\n",
              "    animation:\n",
              "      spin 1s steps(1) infinite;\n",
              "  }\n",
              "\n",
              "  @keyframes spin {\n",
              "    0% {\n",
              "      border-color: transparent;\n",
              "      border-bottom-color: var(--fill-color);\n",
              "      border-left-color: var(--fill-color);\n",
              "    }\n",
              "    20% {\n",
              "      border-color: transparent;\n",
              "      border-left-color: var(--fill-color);\n",
              "      border-top-color: var(--fill-color);\n",
              "    }\n",
              "    30% {\n",
              "      border-color: transparent;\n",
              "      border-left-color: var(--fill-color);\n",
              "      border-top-color: var(--fill-color);\n",
              "      border-right-color: var(--fill-color);\n",
              "    }\n",
              "    40% {\n",
              "      border-color: transparent;\n",
              "      border-right-color: var(--fill-color);\n",
              "      border-top-color: var(--fill-color);\n",
              "    }\n",
              "    60% {\n",
              "      border-color: transparent;\n",
              "      border-right-color: var(--fill-color);\n",
              "    }\n",
              "    80% {\n",
              "      border-color: transparent;\n",
              "      border-right-color: var(--fill-color);\n",
              "      border-bottom-color: var(--fill-color);\n",
              "    }\n",
              "    90% {\n",
              "      border-color: transparent;\n",
              "      border-bottom-color: var(--fill-color);\n",
              "    }\n",
              "  }\n",
              "</style>\n",
              "\n",
              "  <script>\n",
              "    async function quickchart(key) {\n",
              "      const quickchartButtonEl =\n",
              "        document.querySelector('#' + key + ' button');\n",
              "      quickchartButtonEl.disabled = true;  // To prevent multiple clicks.\n",
              "      quickchartButtonEl.classList.add('colab-df-spinner');\n",
              "      try {\n",
              "        const charts = await google.colab.kernel.invokeFunction(\n",
              "            'suggestCharts', [key], {});\n",
              "      } catch (error) {\n",
              "        console.error('Error during call to suggestCharts:', error);\n",
              "      }\n",
              "      quickchartButtonEl.classList.remove('colab-df-spinner');\n",
              "      quickchartButtonEl.classList.add('colab-df-quickchart-complete');\n",
              "    }\n",
              "    (() => {\n",
              "      let quickchartButtonEl =\n",
              "        document.querySelector('#df-3d7cbe55-22aa-4f79-82d0-3243a5b7c4cb button');\n",
              "      quickchartButtonEl.style.display =\n",
              "        google.colab.kernel.accessAllowed ? 'block' : 'none';\n",
              "    })();\n",
              "  </script>\n",
              "</div>\n",
              "\n",
              "  <div id=\"id_12c37c5e-70fa-448a-8056-1a905b5503c0\">\n",
              "    <style>\n",
              "      .colab-df-generate {\n",
              "        background-color: #E8F0FE;\n",
              "        border: none;\n",
              "        border-radius: 50%;\n",
              "        cursor: pointer;\n",
              "        display: none;\n",
              "        fill: #1967D2;\n",
              "        height: 32px;\n",
              "        padding: 0 0 0 0;\n",
              "        width: 32px;\n",
              "      }\n",
              "\n",
              "      .colab-df-generate:hover {\n",
              "        background-color: #E2EBFA;\n",
              "        box-shadow: 0px 1px 2px rgba(60, 64, 67, 0.3), 0px 1px 3px 1px rgba(60, 64, 67, 0.15);\n",
              "        fill: #174EA6;\n",
              "      }\n",
              "\n",
              "      [theme=dark] .colab-df-generate {\n",
              "        background-color: #3B4455;\n",
              "        fill: #D2E3FC;\n",
              "      }\n",
              "\n",
              "      [theme=dark] .colab-df-generate:hover {\n",
              "        background-color: #434B5C;\n",
              "        box-shadow: 0px 1px 3px 1px rgba(0, 0, 0, 0.15);\n",
              "        filter: drop-shadow(0px 1px 2px rgba(0, 0, 0, 0.3));\n",
              "        fill: #FFFFFF;\n",
              "      }\n",
              "    </style>\n",
              "    <button class=\"colab-df-generate\" onclick=\"generateWithVariable('df')\"\n",
              "            title=\"Generate code using this dataframe.\"\n",
              "            style=\"display:none;\">\n",
              "\n",
              "  <svg xmlns=\"http://www.w3.org/2000/svg\" height=\"24px\"viewBox=\"0 0 24 24\"\n",
              "       width=\"24px\">\n",
              "    <path d=\"M7,19H8.4L18.45,9,17,7.55,7,17.6ZM5,21V16.75L18.45,3.32a2,2,0,0,1,2.83,0l1.4,1.43a1.91,1.91,0,0,1,.58,1.4,1.91,1.91,0,0,1-.58,1.4L9.25,21ZM18.45,9,17,7.55Zm-12,3A5.31,5.31,0,0,0,4.9,8.1,5.31,5.31,0,0,0,1,6.5,5.31,5.31,0,0,0,4.9,4.9,5.31,5.31,0,0,0,6.5,1,5.31,5.31,0,0,0,8.1,4.9,5.31,5.31,0,0,0,12,6.5,5.46,5.46,0,0,0,6.5,12Z\"/>\n",
              "  </svg>\n",
              "    </button>\n",
              "    <script>\n",
              "      (() => {\n",
              "      const buttonEl =\n",
              "        document.querySelector('#id_12c37c5e-70fa-448a-8056-1a905b5503c0 button.colab-df-generate');\n",
              "      buttonEl.style.display =\n",
              "        google.colab.kernel.accessAllowed ? 'block' : 'none';\n",
              "\n",
              "      buttonEl.onclick = () => {\n",
              "        google.colab.notebook.generateWithVariable('df');\n",
              "      }\n",
              "      })();\n",
              "    </script>\n",
              "  </div>\n",
              "\n",
              "    </div>\n",
              "  </div>\n"
            ],
            "application/vnd.google.colaboratory.intrinsic+json": {
              "type": "dataframe",
              "variable_name": "df",
              "summary": "{\n  \"name\": \"df\",\n  \"rows\": 12294,\n  \"fields\": [\n    {\n      \"column\": \"anime_id\",\n      \"properties\": {\n        \"dtype\": \"number\",\n        \"std\": 11455,\n        \"min\": 1,\n        \"max\": 34527,\n        \"num_unique_values\": 12294,\n        \"samples\": [\n          17209,\n          173,\n          3616\n        ],\n        \"semantic_type\": \"\",\n        \"description\": \"\"\n      }\n    },\n    {\n      \"column\": \"name\",\n      \"properties\": {\n        \"dtype\": \"string\",\n        \"num_unique_values\": 12292,\n        \"samples\": [\n          \"Nils no Fushigi na Tabi (Movie)\",\n          \"Tactics\",\n          \"Kamen no Maid Guy\"\n        ],\n        \"semantic_type\": \"\",\n        \"description\": \"\"\n      }\n    },\n    {\n      \"column\": \"genre\",\n      \"properties\": {\n        \"dtype\": \"category\",\n        \"num_unique_values\": 3264,\n        \"samples\": [\n          \"Horror, Supernatural\",\n          \"Action, Adventure, Comedy, Demons, Fantasy, Magic, Romance, Shounen, Supernatural\",\n          \"Action, Comedy, Harem, Parody, Romance\"\n        ],\n        \"semantic_type\": \"\",\n        \"description\": \"\"\n      }\n    },\n    {\n      \"column\": \"type\",\n      \"properties\": {\n        \"dtype\": \"category\",\n        \"num_unique_values\": 6,\n        \"samples\": [\n          \"Movie\",\n          \"TV\",\n          \"ONA\"\n        ],\n        \"semantic_type\": \"\",\n        \"description\": \"\"\n      }\n    },\n    {\n      \"column\": \"episodes\",\n      \"properties\": {\n        \"dtype\": \"category\",\n        \"num_unique_values\": 187,\n        \"samples\": [\n          \"141\",\n          \"54\",\n          \"52\"\n        ],\n        \"semantic_type\": \"\",\n        \"description\": \"\"\n      }\n    },\n    {\n      \"column\": \"rating\",\n      \"properties\": {\n        \"dtype\": \"number\",\n        \"std\": 1.0267463068980598,\n        \"min\": 1.67,\n        \"max\": 10.0,\n        \"num_unique_values\": 598,\n        \"samples\": [\n          7.87,\n          6.11,\n          4.1\n        ],\n        \"semantic_type\": \"\",\n        \"description\": \"\"\n      }\n    },\n    {\n      \"column\": \"members\",\n      \"properties\": {\n        \"dtype\": \"number\",\n        \"std\": 54820,\n        \"min\": 5,\n        \"max\": 1013917,\n        \"num_unique_values\": 6706,\n        \"samples\": [\n          170754,\n          1515,\n          66376\n        ],\n        \"semantic_type\": \"\",\n        \"description\": \"\"\n      }\n    }\n  ]\n}"
            }
          },
          "metadata": {},
          "execution_count": 74
        }
      ]
    },
    {
      "cell_type": "code",
      "source": [
        "print(df.head())"
      ],
      "metadata": {
        "colab": {
          "base_uri": "https://localhost:8080/"
        },
        "id": "prAXMHIT6xse",
        "outputId": "fe626047-4b77-465a-d7a4-acd6db6709ab"
      },
      "execution_count": null,
      "outputs": [
        {
          "output_type": "stream",
          "name": "stdout",
          "text": [
            "   anime_id                              name  \\\n",
            "0     32281                    Kimi no Na wa.   \n",
            "1      5114  Fullmetal Alchemist: Brotherhood   \n",
            "2     28977                          Gintama°   \n",
            "3      9253                       Steins;Gate   \n",
            "4      9969                     Gintama&#039;   \n",
            "\n",
            "                                               genre   type episodes  rating  \\\n",
            "0               Drama, Romance, School, Supernatural  Movie        1    9.37   \n",
            "1  Action, Adventure, Drama, Fantasy, Magic, Mili...     TV       64    9.26   \n",
            "2  Action, Comedy, Historical, Parody, Samurai, S...     TV       51    9.25   \n",
            "3                                   Sci-Fi, Thriller     TV       24    9.17   \n",
            "4  Action, Comedy, Historical, Parody, Samurai, S...     TV       51    9.16   \n",
            "\n",
            "   members  \n",
            "0   200630  \n",
            "1   793665  \n",
            "2   114262  \n",
            "3   673572  \n",
            "4   151266  \n"
          ]
        }
      ]
    },
    {
      "cell_type": "code",
      "source": [
        "print(\"\\nFirst 5 Rows:\")\n",
        "print(df.head())\n"
      ],
      "metadata": {
        "colab": {
          "base_uri": "https://localhost:8080/"
        },
        "id": "qEGppSw66c0F",
        "outputId": "7975d963-79d1-474c-b63f-a593600e3f72"
      },
      "execution_count": null,
      "outputs": [
        {
          "output_type": "stream",
          "name": "stdout",
          "text": [
            "\n",
            "First 5 Rows:\n",
            "   anime_id                              name  \\\n",
            "0     32281                    Kimi no Na wa.   \n",
            "1      5114  Fullmetal Alchemist: Brotherhood   \n",
            "2     28977                          Gintama°   \n",
            "3      9253                       Steins;Gate   \n",
            "4      9969                     Gintama&#039;   \n",
            "\n",
            "                                               genre   type episodes  rating  \\\n",
            "0               Drama, Romance, School, Supernatural  Movie        1    9.37   \n",
            "1  Action, Adventure, Drama, Fantasy, Magic, Mili...     TV       64    9.26   \n",
            "2  Action, Comedy, Historical, Parody, Samurai, S...     TV       51    9.25   \n",
            "3                                   Sci-Fi, Thriller     TV       24    9.17   \n",
            "4  Action, Comedy, Historical, Parody, Samurai, S...     TV       51    9.16   \n",
            "\n",
            "   members  \n",
            "0   200630  \n",
            "1   793665  \n",
            "2   114262  \n",
            "3   673572  \n",
            "4   151266  \n"
          ]
        }
      ]
    },
    {
      "cell_type": "code",
      "source": [
        "# Explore the dataset\n",
        "print(\"\\nDataset Info:\")\n",
        "print(df.info())"
      ],
      "metadata": {
        "colab": {
          "base_uri": "https://localhost:8080/"
        },
        "id": "Lqmsf-KS6-AD",
        "outputId": "45fd10ba-843f-4711-b672-7aecebb226d5"
      },
      "execution_count": null,
      "outputs": [
        {
          "output_type": "stream",
          "name": "stdout",
          "text": [
            "\n",
            "Dataset Info:\n",
            "<class 'pandas.core.frame.DataFrame'>\n",
            "RangeIndex: 12294 entries, 0 to 12293\n",
            "Data columns (total 7 columns):\n",
            " #   Column    Non-Null Count  Dtype  \n",
            "---  ------    --------------  -----  \n",
            " 0   anime_id  12294 non-null  int64  \n",
            " 1   name      12294 non-null  object \n",
            " 2   genre     12232 non-null  object \n",
            " 3   type      12269 non-null  object \n",
            " 4   episodes  12294 non-null  object \n",
            " 5   rating    12064 non-null  float64\n",
            " 6   members   12294 non-null  int64  \n",
            "dtypes: float64(1), int64(2), object(4)\n",
            "memory usage: 672.5+ KB\n",
            "None\n"
          ]
        }
      ]
    },
    {
      "cell_type": "code",
      "source": [
        "print(\"\\nDataset Description:\")\n",
        "print(df.describe())\n"
      ],
      "metadata": {
        "colab": {
          "base_uri": "https://localhost:8080/"
        },
        "id": "MMg3Bqrl6_i-",
        "outputId": "5bc5aa4e-b4fb-492c-c753-e135699d5a2e"
      },
      "execution_count": null,
      "outputs": [
        {
          "output_type": "stream",
          "name": "stdout",
          "text": [
            "\n",
            "Dataset Description:\n",
            "           anime_id        rating       members\n",
            "count  12294.000000  12064.000000  1.229400e+04\n",
            "mean   14058.221653      6.473902  1.807134e+04\n",
            "std    11455.294701      1.026746  5.482068e+04\n",
            "min        1.000000      1.670000  5.000000e+00\n",
            "25%     3484.250000      5.880000  2.250000e+02\n",
            "50%    10260.500000      6.570000  1.550000e+03\n",
            "75%    24794.500000      7.180000  9.437000e+03\n",
            "max    34527.000000     10.000000  1.013917e+06\n"
          ]
        }
      ]
    },
    {
      "cell_type": "code",
      "source": [
        "print(\"\\nShape of the DataFrame\")\n",
        "print(df.shape)\n"
      ],
      "metadata": {
        "colab": {
          "base_uri": "https://localhost:8080/"
        },
        "id": "3cxY1qEK6_f1",
        "outputId": "a10a799b-2125-4552-acb7-ce89a00b07aa"
      },
      "execution_count": null,
      "outputs": [
        {
          "output_type": "stream",
          "name": "stdout",
          "text": [
            "\n",
            "Shape of the DataFrame\n",
            "(12294, 7)\n"
          ]
        }
      ]
    },
    {
      "cell_type": "code",
      "source": [
        "# Handle missing values\n",
        "print(\"Original Missing Values:\")\n",
        "print(df.isnull().sum())"
      ],
      "metadata": {
        "colab": {
          "base_uri": "https://localhost:8080/"
        },
        "id": "BjKdfMG76TIF",
        "outputId": "b6cdd290-e0d3-40ae-bbec-d2587d78a40c"
      },
      "execution_count": null,
      "outputs": [
        {
          "output_type": "stream",
          "name": "stdout",
          "text": [
            "Original Missing Values:\n",
            "anime_id      0\n",
            "name          0\n",
            "genre        62\n",
            "type         25\n",
            "episodes      0\n",
            "rating      230\n",
            "members       0\n",
            "dtype: int64\n"
          ]
        }
      ]
    },
    {
      "cell_type": "code",
      "source": [
        "print(\"\\nMissing Values After Handling:\")\n",
        "print(df.isnull().sum())\n"
      ],
      "metadata": {
        "colab": {
          "base_uri": "https://localhost:8080/"
        },
        "id": "-zRY_VTm6S7N",
        "outputId": "7aca5aa1-795e-4b77-cbce-f9d705b8ee79"
      },
      "execution_count": null,
      "outputs": [
        {
          "output_type": "stream",
          "name": "stdout",
          "text": [
            "\n",
            "Missing Values After Handling:\n",
            "anime_id      0\n",
            "name          0\n",
            "genre        62\n",
            "type         25\n",
            "episodes      0\n",
            "rating      230\n",
            "members       0\n",
            "dtype: int64\n"
          ]
        }
      ]
    },
    {
      "cell_type": "code",
      "source": [
        "print(\"\\nUnique values for each column\")\n",
        "for col in df.columns:\n",
        "  print(f\"Column: {col}, Unique values: {df[col].unique()}\")"
      ],
      "metadata": {
        "colab": {
          "base_uri": "https://localhost:8080/"
        },
        "id": "PKJCmfMy7k8Y",
        "outputId": "575d2dc7-5d6e-415e-e5d9-69056bce7815"
      },
      "execution_count": null,
      "outputs": [
        {
          "output_type": "stream",
          "name": "stdout",
          "text": [
            "\n",
            "Unique values for each column\n",
            "Column: anime_id, Unique values: [32281  5114 28977 ...  5621  6133 26081]\n",
            "Column: name, Unique values: ['Kimi no Na wa.' 'Fullmetal Alchemist: Brotherhood' 'Gintama°' ...\n",
            " 'Violence Gekiga David no Hoshi'\n",
            " 'Violence Gekiga Shin David no Hoshi: Inma Densetsu'\n",
            " 'Yasuji no Pornorama: Yacchimae!!']\n",
            "Column: genre, Unique values: ['Drama, Romance, School, Supernatural'\n",
            " 'Action, Adventure, Drama, Fantasy, Magic, Military, Shounen'\n",
            " 'Action, Comedy, Historical, Parody, Samurai, Sci-Fi, Shounen' ...\n",
            " 'Hentai, Sports' 'Drama, Romance, School, Yuri' 'Hentai, Slice of Life']\n",
            "Column: type, Unique values: ['Movie' 'TV' 'OVA' 'Special' 'Music' 'ONA' nan]\n",
            "Column: episodes, Unique values: ['1' '64' '51' '24' '10' '148' '110' '13' '201' '25' '22' '75' '4' '26'\n",
            " '12' '27' '43' '74' '37' '2' '11' '99' 'Unknown' '39' '101' '47' '50'\n",
            " '62' '33' '112' '23' '3' '94' '6' '8' '14' '7' '40' '15' '203' '77' '291'\n",
            " '120' '102' '96' '38' '79' '175' '103' '70' '153' '45' '5' '21' '63' '52'\n",
            " '28' '145' '36' '69' '60' '178' '114' '35' '61' '34' '109' '20' '9' '49'\n",
            " '366' '97' '48' '78' '358' '155' '104' '113' '54' '167' '161' '42' '142'\n",
            " '31' '373' '220' '46' '195' '17' '1787' '73' '147' '127' '16' '19' '98'\n",
            " '150' '76' '53' '124' '29' '115' '224' '44' '58' '93' '154' '92' '67'\n",
            " '172' '86' '30' '276' '59' '72' '330' '41' '105' '128' '137' '56' '55'\n",
            " '65' '243' '193' '18' '191' '180' '91' '192' '66' '182' '32' '164' '100'\n",
            " '296' '694' '95' '68' '117' '151' '130' '87' '170' '119' '84' '108' '156'\n",
            " '140' '331' '305' '300' '510' '200' '88' '1471' '526' '143' '726' '136'\n",
            " '1818' '237' '1428' '365' '163' '283' '71' '260' '199' '225' '312' '240'\n",
            " '1306' '1565' '773' '1274' '90' '475' '263' '83' '85' '1006' '80' '162'\n",
            " '132' '141' '125']\n",
            "Column: rating, Unique values: [ 9.37  9.26  9.25  9.17  9.16  9.15  9.13  9.11  9.1   9.06  9.05  9.04\n",
            "  8.98  8.93  8.92  8.88  8.84  8.83  8.82  8.81  8.8   8.78  8.77  8.76\n",
            "  8.75  8.74  8.73  8.72  8.71  8.69  8.68  8.67  8.66  8.65  8.64  8.62\n",
            "  8.61  8.6   8.59  8.58  8.57  8.56  8.55  8.54  8.53  8.52  8.51  8.5\n",
            "  8.49  8.48  8.47  8.46  8.45  8.44  8.43  8.42  8.41  8.4   8.39  8.38\n",
            "  8.37  8.36  8.35  8.34  8.33  8.32  8.31  8.3   8.29  8.28  8.27  8.26\n",
            "  8.25  8.24  8.23  8.22  8.21  8.2   8.19  8.18  8.17  8.16  8.15  8.14\n",
            "  8.13  8.12  8.11  8.1   8.09  8.08  8.07  8.06  8.05  8.04  8.03  8.02\n",
            "  8.01  8.    7.99  7.98  7.97  7.96  7.95  7.94  7.93  7.92  7.91  7.9\n",
            "  7.89  7.88  7.87  7.86  7.85  7.84  7.83  7.82  7.81  7.8   7.79  7.78\n",
            "  7.77  7.76  7.75  7.74  7.73  7.72  7.71  7.7   7.69  7.68  7.67  7.66\n",
            "  7.65  7.64  7.63  7.62  7.61  7.6   7.59  7.58  7.57  7.56  7.55  7.54\n",
            "  7.53  7.52  7.51  7.5   7.49  7.48  7.47  7.46  7.45  7.44  7.43  7.42\n",
            "  7.41  7.4   7.39  7.38  7.37  7.36  7.35  7.34  7.33  7.32  7.31  7.3\n",
            "  7.29  7.28  7.27  7.25  7.26  7.24  7.23  7.22  7.21  7.2   7.19  7.18\n",
            "  7.17  7.16  7.14  7.15  7.13  7.12  7.11  7.1   7.09  7.08  7.07  7.06\n",
            "  7.05  7.04  7.03  7.02  7.01  7.    6.99  6.98  6.97  6.96  6.95  6.94\n",
            "  6.93  6.92  6.91  6.9   6.89  6.88  6.87  6.86  6.85  6.84  6.83  6.82\n",
            "  6.81  6.8   6.79  6.78  6.75  6.77  6.76  6.74  6.73  6.72  6.71  6.7\n",
            "  6.69  6.68  6.67  6.66  6.65  6.64  6.63  6.62  6.61  6.6   6.59  6.58\n",
            "  6.57  6.56  6.55  6.54  6.53  6.52  6.51  6.47  6.5   6.49  6.48  6.46\n",
            "  6.45  6.42  6.44  6.43  6.39  6.41  6.4   6.38  6.37  6.35  6.36  6.34\n",
            "  6.33  6.32  6.31  6.3   6.29  6.28  6.27  6.26  6.25  6.22  6.24  6.23\n",
            "  6.21  6.2   6.19  6.18  6.17  6.16  6.15  6.14  6.13  6.12  6.1   6.11\n",
            "  6.09  6.08  6.06  6.07  6.05  6.04  6.03  6.01  6.02  6.    5.99  5.98\n",
            "  5.97  5.96  5.95  5.94  5.93  5.92  5.91  5.89  5.9   5.88  5.87  5.86\n",
            "  5.85  5.84  5.83  5.82  5.81  5.8   5.79  5.78  5.77  5.76  5.75  5.74\n",
            "  5.73  5.72  5.7   5.71  5.69  5.68  5.67  5.66  5.65  5.64  5.63  5.62\n",
            "  5.61  5.6   5.59  5.58  5.57  5.56  5.55  5.53  5.54  5.52  5.51  5.5\n",
            "  5.49  5.48  5.46  5.47  5.45  5.44  5.43  5.42  5.41  5.4   5.39  5.38\n",
            "  5.37  5.36  5.35  5.34  5.33  5.32  5.31  5.3   5.29  5.28  5.27  5.26\n",
            "  5.24  5.25  5.23  5.22  5.21  5.2   5.19  5.14  5.18  5.17  5.16  5.15\n",
            "  5.13  5.11  5.12  5.1   5.09  5.07  5.08  5.06  5.05  5.04  5.03  5.02\n",
            "  5.01  5.    4.99  4.98  4.97  4.96  4.95  4.94  4.93  4.92  4.91  4.9\n",
            "  4.89  4.88  4.84  4.87  4.86  4.85  4.83  4.82  4.81  4.8   4.79  4.78\n",
            "  4.77  4.76  4.75  4.74  4.73  4.72  4.71  4.7   4.69  4.68  4.66  4.67\n",
            "  4.65  4.64  4.63  4.62  4.6   4.59  4.58  4.57  4.56  4.55  4.54  4.53\n",
            "  4.52  4.49  4.5   4.48  4.46  4.45  4.44  4.43  4.42  4.4   4.39  4.38\n",
            "  4.36  4.35  4.34  4.32  4.31  4.3   4.28  4.27  4.26  4.25  4.24  4.23\n",
            "  4.22  4.21  4.19  4.17  4.16  4.15  4.11  4.08  4.04  4.03  4.02  4.\n",
            "  3.99  3.98  3.96  3.91  3.9   3.88  3.87  3.86  3.84  3.83  3.82  3.8\n",
            "  3.78  3.76  3.75  3.74  3.73  3.71  3.7   3.68  3.65  3.63  3.62  3.6\n",
            "  3.58  3.59  3.56  3.47  3.46  3.41  3.36  3.33  3.32  3.27  2.95  2.93\n",
            "  2.78  2.67  2.37  2.14  2.    4.06  4.18  4.09  3.67  3.    4.33  3.89\n",
            "  4.2   3.61  4.13  3.11  2.58  4.29  3.43  3.57  4.05  4.51  3.4   3.79\n",
            "  3.81  3.92  3.48  3.38  3.95  4.61  3.34  3.02  2.69  3.5   3.97  3.85\n",
            "   nan  3.77  3.53  9.33  4.14  4.12  3.2   3.93  3.52  2.55  9.    2.97\n",
            "  4.1   3.39  3.17  9.5   3.25  2.8   2.91  2.75  4.41  3.72  3.94  1.67\n",
            "  4.37  3.69  3.26  3.49  2.49  2.84  4.07  3.35  3.54  3.21  3.42  9.6\n",
            "  3.28 10.    3.51  3.29  2.72  3.64  2.98  3.44  1.92  2.86  3.14]\n",
            "Column: members, Unique values: [200630 793665 114262 ...  27411  57355    652]\n"
          ]
        }
      ]
    },
    {
      "cell_type": "code",
      "source": [
        "# Explore unique values in categorical columns (you can adjust the threshold)\n",
        "print(\"\\nUnique values for each column with less than 20 unique values:\")\n",
        "for col in df.select_dtypes(include=['object']).columns:  # Select only object type columns (categorical)\n",
        "  if len(df[col].unique()) < 20: #limit of unique values\n",
        "    print(f\"Column: {col}, Unique values: {df[col].unique()}\")\n",
        "\n",
        "print(\"\\nValue counts for 'type' column:\")\n",
        "print(df['type'].value_counts())\n",
        "print(\"\\nValue counts for 'genre' column:\")\n",
        "print(df['genre'].value_counts())"
      ],
      "metadata": {
        "colab": {
          "base_uri": "https://localhost:8080/"
        },
        "id": "4h_CRyfg7nMc",
        "outputId": "498fba4a-3319-4308-e0ed-e2c5558da300"
      },
      "execution_count": null,
      "outputs": [
        {
          "output_type": "stream",
          "name": "stdout",
          "text": [
            "\n",
            "Unique values for each column with less than 20 unique values:\n",
            "Column: type, Unique values: ['Movie' 'TV' 'OVA' 'Special' 'Music' 'ONA' nan]\n",
            "\n",
            "Value counts for 'type' column:\n",
            "type\n",
            "TV         3787\n",
            "OVA        3311\n",
            "Movie      2348\n",
            "Special    1676\n",
            "ONA         659\n",
            "Music       488\n",
            "Name: count, dtype: int64\n",
            "\n",
            "Value counts for 'genre' column:\n",
            "genre\n",
            "Hentai                                                  823\n",
            "Comedy                                                  523\n",
            "Music                                                   301\n",
            "Kids                                                    199\n",
            "Comedy, Slice of Life                                   179\n",
            "                                                       ... \n",
            "Adventure, Drama, Fantasy, Game, Sci-Fi                   1\n",
            "Adventure, Demons, Fantasy, Historical                    1\n",
            "Action, Comedy, Drama, Mecha, Music, Sci-Fi, Shounen      1\n",
            "Action, Comedy, Fantasy, Mecha, Sci-Fi, Shounen           1\n",
            "Hentai, Slice of Life                                     1\n",
            "Name: count, Length: 3264, dtype: int64\n"
          ]
        }
      ]
    },
    {
      "cell_type": "markdown",
      "source": [
        "Feature Extraction:"
      ],
      "metadata": {
        "id": "C91vZpoe8aOs"
      }
    },
    {
      "cell_type": "code",
      "source": [
        "# Data Preprocessing\n",
        "df['genre'].fillna('Unknown', inplace=True)\n",
        "df.dropna(inplace=True)\n",
        "print(df.dropna)\n"
      ],
      "metadata": {
        "colab": {
          "base_uri": "https://localhost:8080/"
        },
        "id": "4OZP-6SpAVLU",
        "outputId": "e7e52f8f-b7a6-45d3-c914-5f30597e37a4"
      },
      "execution_count": null,
      "outputs": [
        {
          "output_type": "stream",
          "name": "stdout",
          "text": [
            "<bound method DataFrame.dropna of        anime_id                                               name  \\\n",
            "0         32281                                     Kimi no Na wa.   \n",
            "1          5114                   Fullmetal Alchemist: Brotherhood   \n",
            "2         28977                                           Gintama°   \n",
            "3          9253                                        Steins;Gate   \n",
            "4          9969                                      Gintama&#039;   \n",
            "...         ...                                                ...   \n",
            "12289      9316       Toushindai My Lover: Minami tai Mecha-Minami   \n",
            "12290      5543                                        Under World   \n",
            "12291      5621                     Violence Gekiga David no Hoshi   \n",
            "12292      6133  Violence Gekiga Shin David no Hoshi: Inma Dens...   \n",
            "12293     26081                   Yasuji no Pornorama: Yacchimae!!   \n",
            "\n",
            "                                                   genre   type episodes  \\\n",
            "0                   Drama, Romance, School, Supernatural  Movie        1   \n",
            "1      Action, Adventure, Drama, Fantasy, Magic, Mili...     TV       64   \n",
            "2      Action, Comedy, Historical, Parody, Samurai, S...     TV       51   \n",
            "3                                       Sci-Fi, Thriller     TV       24   \n",
            "4      Action, Comedy, Historical, Parody, Samurai, S...     TV       51   \n",
            "...                                                  ...    ...      ...   \n",
            "12289                                             Hentai    OVA        1   \n",
            "12290                                             Hentai    OVA        1   \n",
            "12291                                             Hentai    OVA        4   \n",
            "12292                                             Hentai    OVA        1   \n",
            "12293                                             Hentai  Movie        1   \n",
            "\n",
            "       rating  members  \n",
            "0        9.37   200630  \n",
            "1        9.26   793665  \n",
            "2        9.25   114262  \n",
            "3        9.17   673572  \n",
            "4        9.16   151266  \n",
            "...       ...      ...  \n",
            "12289    4.15      211  \n",
            "12290    4.28      183  \n",
            "12291    4.88      219  \n",
            "12292    4.98      175  \n",
            "12293    5.46      142  \n",
            "\n",
            "[12064 rows x 7 columns]>\n"
          ]
        },
        {
          "output_type": "stream",
          "name": "stderr",
          "text": [
            "<ipython-input-84-9130e9fe76bd>:2: FutureWarning: A value is trying to be set on a copy of a DataFrame or Series through chained assignment using an inplace method.\n",
            "The behavior will change in pandas 3.0. This inplace method will never work because the intermediate object on which we are setting values always behaves as a copy.\n",
            "\n",
            "For example, when doing 'df[col].method(value, inplace=True)', try using 'df.method({col: value}, inplace=True)' or df[col] = df[col].method(value) instead, to perform the operation inplace on the original object.\n",
            "\n",
            "\n",
            "  df['genre'].fillna('Unknown', inplace=True)\n"
          ]
        }
      ]
    },
    {
      "cell_type": "code",
      "source": [
        "# Convert Categorical Features to Numerical: 'genre'\n",
        "# Since 'genre' contains multiple genres for each anime, we use MultiLabelBinarizer.\n",
        "mlb = MultiLabelBinarizer()\n",
        "genre_matrix = mlb.fit_transform(df['genre'].str.split(', '))\n",
        "genre_df = pd.DataFrame(genre_matrix, columns=mlb.classes_)\n",
        "\n",
        "# Combine the genre_df with the original dataframe\n",
        "df = pd.concat([df.reset_index(drop=True), genre_df], axis=1)\n",
        "print(\"\\nCombined Features DataFrame:\")\n",
        "print(df.head())\n",
        "\n"
      ],
      "metadata": {
        "colab": {
          "base_uri": "https://localhost:8080/"
        },
        "id": "gqsJs0Lx-RwR",
        "outputId": "90dd4a43-4990-4964-9272-79f4332257f3"
      },
      "execution_count": null,
      "outputs": [
        {
          "output_type": "stream",
          "name": "stdout",
          "text": [
            "\n",
            "Combined Features DataFrame:\n",
            "   anime_id                              name  \\\n",
            "0     32281                    Kimi no Na wa.   \n",
            "1      5114  Fullmetal Alchemist: Brotherhood   \n",
            "2     28977                          Gintama°   \n",
            "3      9253                       Steins;Gate   \n",
            "4      9969                     Gintama&#039;   \n",
            "\n",
            "                                               genre   type episodes  rating  \\\n",
            "0               Drama, Romance, School, Supernatural  Movie        1    9.37   \n",
            "1  Action, Adventure, Drama, Fantasy, Magic, Mili...     TV       64    9.26   \n",
            "2  Action, Comedy, Historical, Parody, Samurai, S...     TV       51    9.25   \n",
            "3                                   Sci-Fi, Thriller     TV       24    9.17   \n",
            "4  Action, Comedy, Historical, Parody, Samurai, S...     TV       51    9.16   \n",
            "\n",
            "   members  Action  Adventure  Cars  ...  Slice of Life  Space  Sports  \\\n",
            "0   200630       0          0     0  ...              0      0       0   \n",
            "1   793665       1          1     0  ...              0      0       0   \n",
            "2   114262       1          0     0  ...              0      0       0   \n",
            "3   673572       0          0     0  ...              0      0       0   \n",
            "4   151266       1          0     0  ...              0      0       0   \n",
            "\n",
            "   Super Power  Supernatural  Thriller  Unknown  Vampire  Yaoi  Yuri  \n",
            "0            0             1         0        0        0     0     0  \n",
            "1            0             0         0        0        0     0     0  \n",
            "2            0             0         0        0        0     0     0  \n",
            "3            0             0         1        0        0     0     0  \n",
            "4            0             0         0        0        0     0     0  \n",
            "\n",
            "[5 rows x 51 columns]\n"
          ]
        }
      ]
    },
    {
      "cell_type": "code",
      "source": [
        "# Normalize Numerical Features: 'rating'\n",
        "# We'll normalize 'rating' to a 0-1 scale.\n",
        "scaler = MinMaxScaler()\n",
        "df['rating_normalized'] = scaler.fit_transform(df['rating'].values.reshape(-1, 1))\n",
        "\n",
        "# Create a numerical features dataframe\n",
        "numerical_features_df = df[['rating_normalized']].copy()\n",
        "\n",
        "#Combine numerical and binarized dataframes\n",
        "combined_features_df = pd.concat([numerical_features_df.reset_index(drop=True), genre_df.reset_index(drop=True)], axis=1)\n",
        "\n",
        "print(\"\\nCombined Features DataFrame:\")\n",
        "print(combined_features_df.head())\n",
        "print(\"\\nShape of Combined Features DataFrame:\")\n",
        "combined_features_df.shape"
      ],
      "metadata": {
        "colab": {
          "base_uri": "https://localhost:8080/"
        },
        "id": "0c6hOLNt-s5u",
        "outputId": "a45e3360-ff4c-4573-ec7a-f1b1177f75cd"
      },
      "execution_count": null,
      "outputs": [
        {
          "output_type": "stream",
          "name": "stdout",
          "text": [
            "\n",
            "Combined Features DataFrame:\n",
            "   rating_normalized  Action  Adventure  Cars  Comedy  Dementia  Demons  \\\n",
            "0           0.924370       0          0     0       0         0       0   \n",
            "1           0.911164       1          1     0       0         0       0   \n",
            "2           0.909964       1          0     0       1         0       0   \n",
            "3           0.900360       0          0     0       0         0       0   \n",
            "4           0.899160       1          0     0       1         0       0   \n",
            "\n",
            "   Drama  Ecchi  Fantasy  ...  Slice of Life  Space  Sports  Super Power  \\\n",
            "0      1      0        0  ...              0      0       0            0   \n",
            "1      1      0        1  ...              0      0       0            0   \n",
            "2      0      0        0  ...              0      0       0            0   \n",
            "3      0      0        0  ...              0      0       0            0   \n",
            "4      0      0        0  ...              0      0       0            0   \n",
            "\n",
            "   Supernatural  Thriller  Unknown  Vampire  Yaoi  Yuri  \n",
            "0             1         0        0        0     0     0  \n",
            "1             0         0        0        0     0     0  \n",
            "2             0         0        0        0     0     0  \n",
            "3             0         1        0        0     0     0  \n",
            "4             0         0        0        0     0     0  \n",
            "\n",
            "[5 rows x 45 columns]\n",
            "\n",
            "Shape of Combined Features DataFrame:\n"
          ]
        },
        {
          "output_type": "execute_result",
          "data": {
            "text/plain": [
              "(12064, 45)"
            ]
          },
          "metadata": {},
          "execution_count": 86
        }
      ]
    },
    {
      "cell_type": "markdown",
      "source": [
        "Recommendation System:"
      ],
      "metadata": {
        "id": "dIwR8haRBVdG"
      }
    },
    {
      "cell_type": "code",
      "source": [
        "from sklearn.metrics.pairwise import cosine_similarity"
      ],
      "metadata": {
        "id": "C1eYWEKgLhuN"
      },
      "execution_count": null,
      "outputs": []
    },
    {
      "cell_type": "code",
      "source": [
        "# Function to recommend anime\n",
        "def recommend_anime(target_anime_name, df, cosine_sim, threshold=0.5, top_n=10):\n",
        "    \"\"\"\n",
        "    Recommends anime based on cosine similarity.\n",
        "\n",
        "    Args:\n",
        "        target_anime_name (str): Name of the target anime.\n",
        "        df (pd.DataFrame): DataFrame containing anime data.\n",
        "        cosine_sim (np.ndarray): Cosine similarity matrix.\n",
        "        threshold (float): Similarity score threshold for recommendations.\n",
        "        top_n (int): Number of top recommendations to return.\n",
        "\n",
        "    Returns:\n",
        "        list: List of recommended anime names.\n",
        "    \"\"\"\n",
        "    if target_anime_name not in df['name'].values:\n",
        "        print(f\"Anime '{target_anime_name}' not found in the dataset.\")\n",
        "        return []\n",
        "\n",
        "    target_anime_index = df[df['name'] == target_anime_name].index[0]\n",
        "    similarity_scores = list(enumerate(cosine_sim[target_anime_index]))\n",
        "    similarity_scores = sorted(similarity_scores, key=lambda x: x[1], reverse=True)\n",
        "\n",
        "    recommendations = []\n",
        "    for i, score in similarity_scores[1:]:  # Exclude the target anime itself\n",
        "        if score >= threshold:\n",
        "            recommendations.append((df.iloc[i]['name'], score))\n",
        "\n",
        "            # Sort by score and take top_n\n",
        "    recommendations.sort(key=lambda x: x[1], reverse=True)\n",
        "    recommendations = recommendations[:top_n]\n",
        "\n",
        "    return recommendations"
      ],
      "metadata": {
        "id": "zxd6Fjn0-s8j"
      },
      "execution_count": null,
      "outputs": []
    },
    {
      "cell_type": "code",
      "source": [
        "# Calculate the cosine similarity matrix\n",
        "cosine_sim = cosine_similarity(combined_features_df, combined_features_df)\n",
        "\n",
        "# Example Usage\n",
        "target_anime = \"Naruto\"\n",
        "threshold_value = 0.4  # Experiment with different threshold values\n",
        "top_n_value = 5 # top 5 anime\n",
        "\n",
        "recommendations = recommend_anime(target_anime, df, cosine_sim, threshold=threshold_value, top_n=top_n_value) # Now cosine_sim is defined\n",
        "\n",
        "if recommendations:\n",
        "  print(f\"\\nRecommendations for '{target_anime}' (threshold={threshold_value}, top_n={top_n_value}):\")\n",
        "  for anime, score in recommendations:\n",
        "    print(f\"- {anime} (similarity score: {score:.4f})\")\n",
        "else:\n",
        "  print(\"No recommendations found for the given anime and threshold.\")\n"
      ],
      "metadata": {
        "colab": {
          "base_uri": "https://localhost:8080/"
        },
        "id": "O9qmoSWbB57y",
        "outputId": "5b4cfe9a-7c80-4497-be12-74d0196e985f"
      },
      "execution_count": null,
      "outputs": [
        {
          "output_type": "stream",
          "name": "stdout",
          "text": [
            "\n",
            "Recommendations for 'Naruto' (threshold=0.4, top_n=5):\n",
            "- Naruto: Shippuuden (similarity score: 1.0000)\n",
            "- Boruto: Naruto the Movie - Naruto ga Hokage ni Natta Hi (similarity score: 1.0000)\n",
            "- Boruto: Naruto the Movie (similarity score: 0.9999)\n",
            "- Naruto x UT (similarity score: 0.9999)\n",
            "- Naruto: Shippuuden Movie 4 - The Lost Tower (similarity score: 0.9999)\n"
          ]
        }
      ]
    },
    {
      "cell_type": "code",
      "source": [
        "# Calculate the cosine similarity matrix\n",
        "cosine_sim = cosine_similarity(combined_features_df, combined_features_df)\n",
        "\n",
        "target_anime = \"Cowboy Bebop\"\n",
        "threshold_value = 0.3\n",
        "top_n_value = 10\n",
        "recommendations = recommend_anime(target_anime, df, cosine_sim, threshold=threshold_value, top_n=top_n_value)\n",
        "\n",
        "if recommendations:\n",
        "  print(f\"\\nRecommendations for '{target_anime}' (threshold={threshold_value}, top_n={top_n_value}):\")\n",
        "  for anime, score in recommendations:\n",
        "    print(f\"- {anime} (similarity score: {score:.4f})\")\n",
        "else:\n",
        "  print(\"No recommendations found for the given anime and threshold.\")"
      ],
      "metadata": {
        "colab": {
          "base_uri": "https://localhost:8080/"
        },
        "id": "EPHXlXbu-tEn",
        "outputId": "0d302641-c044-4d6b-d845-32ec1ff04fce"
      },
      "execution_count": null,
      "outputs": [
        {
          "output_type": "stream",
          "name": "stdout",
          "text": [
            "\n",
            "Recommendations for 'Cowboy Bebop' (threshold=0.3, top_n=10):\n",
            "- Cowboy Bebop: Yose Atsume Blues (similarity score: 0.9984)\n",
            "- Seihou Bukyou Outlaw Star (similarity score: 0.9221)\n",
            "- Seihou Tenshi Angel Links (similarity score: 0.9215)\n",
            "- Waga Seishun no Arcadia (similarity score: 0.9215)\n",
            "- Waga Seishun no Arcadia: Mugen Kidou SSX (similarity score: 0.9211)\n",
            "- Ginga Tetsudou Monogatari (similarity score: 0.9203)\n",
            "- Uchuu Kaizoku Captain Harlock: Arcadia-gou no Nazo (similarity score: 0.9199)\n",
            "- Ginga Tetsudou Monogatari: Eien e no Bunkiten (similarity score: 0.9196)\n",
            "- Kaitei Choutokkyuu: Marine Express (similarity score: 0.9162)\n",
            "- Urusei Yatsura Movie 2: Beautiful Dreamer (similarity score: 0.8487)\n"
          ]
        }
      ]
    },
    {
      "cell_type": "markdown",
      "source": [
        "Evaluation:"
      ],
      "metadata": {
        "id": "idXoXSNLC8ud"
      }
    },
    {
      "cell_type": "code",
      "source": [
        "import pandas as pd\n",
        "import numpy as np\n",
        "from sklearn.preprocessing import MultiLabelBinarizer, MinMaxScaler\n",
        "from sklearn.metrics.pairwise import cosine_similarity\n",
        "from sklearn.model_selection import train_test_split\n",
        "from sklearn.metrics import precision_score, recall_score, f1_score"
      ],
      "metadata": {
        "id": "JBww3AMd_ydU"
      },
      "execution_count": null,
      "outputs": []
    },
    {
      "cell_type": "code",
      "source": [
        "# Function to evaluate the recommendation system\n",
        "def evaluate_recommendations(test_df, df, cosine_sim, threshold=0.5, top_n=10):\n",
        "    \"\"\"\n",
        "    Evaluates the recommendation system using precision, recall, and F1-score.\n",
        "\n",
        "    Args:\n",
        "        test_df (pd.DataFrame): Test dataset.\n",
        "        df (pd.DataFrame): Full dataset.\n",
        "        cosine_sim (np.ndarray): Cosine similarity matrix.\n",
        "        threshold (float): Similarity score threshold for recommendations.\n",
        "        top_n (int): Number of top recommendations to return.\n",
        "\n",
        "    Returns:\n",
        "        tuple: Precision, recall, and F1-score.\n",
        "    \"\"\"\n",
        "    all_predictions = []\n",
        "    all_true_values = []\n",
        "\n",
        "    for index, row in test_df.iterrows():\n",
        "        target_anime = row['name']\n",
        "        # Handle potential float values in 'genre' column\n",
        "        true_genres = set(str(row['genre']).split(', ')) if isinstance(row['genre'], str) else set()\n",
        "\n",
        "        recommendations = recommend_anime(target_anime, df, cosine_sim, threshold, top_n)\n",
        "        predicted_genres = set()\n",
        "        for anime, _ in recommendations:\n",
        "            # Handle potential float values in 'genre' column in recommendations\n",
        "            predicted_genres.update(df[df['name'] == anime]['genre'].iloc[0].split(', ') if isinstance(df[df['name'] == anime]['genre'].iloc[0], str) else set())\n",
        "\n",
        "        all_predictions.append(predicted_genres)\n",
        "        all_true_values.append(true_genres)\n",
        "\n",
        "    # Calculate the metrics\n",
        "    y_true = []\n",
        "    y_pred = []\n",
        "    for i in range(len(all_true_values)):\n",
        "      for j in mlb.classes_:\n",
        "        y_true.append(1 if j in all_true_values[i] else 0)\n",
        "        y_pred.append(1 if j in all_predictions[i] else 0)\n",
        "\n",
        "\n",
        "    precision = precision_score(y_true, y_pred, average='micro', zero_division=1)\n",
        "    recall = recall_score(y_true, y_pred, average='micro', zero_division=1)\n",
        "    f1 = f1_score(y_true, y_pred, average='micro', zero_division=1)\n",
        "\n",
        "    return precision, recall, f1"
      ],
      "metadata": {
        "id": "3ftCZjBtWLG9"
      },
      "execution_count": null,
      "outputs": []
    },
    {
      "cell_type": "code",
      "source": [
        "# Evaluate the recommendation system\n",
        "precision, recall, f1 = evaluate_recommendations(test_df, df, cosine_sim, threshold=0.3, top_n=10)\n",
        "\n",
        "print(f\"Precision: {precision:.4f}\")\n",
        "print(f\"Recall: {recall:.4f}\")\n",
        "print(f\"F1-score: {f1:.4f}\")"
      ],
      "metadata": {
        "colab": {
          "base_uri": "https://localhost:8080/"
        },
        "id": "T_wTpuxIJrQG",
        "outputId": "bf71c0d1-6be9-4d2a-aaf9-bd9db1c4ed12"
      },
      "execution_count": null,
      "outputs": [
        {
          "output_type": "stream",
          "name": "stdout",
          "text": [
            "Anime 'Demi-chan wa Kataritai' not found in the dataset.\n",
            "Anime 'Seikaisuru Kado' not found in the dataset.\n",
            "Anime 'Kemushi no Boro' not found in the dataset.\n",
            "Anime 'Death March kara Hajimaru Isekai Kyousoukyoku' not found in the dataset.\n",
            "Anime 'Gekidol' not found in the dataset.\n",
            "Anime 'Shingeki no Bahamut: Manaria Friends' not found in the dataset.\n",
            "Anime 'Yami Shibai 4th Season' not found in the dataset.\n",
            "Anime 'Nora to Oujo to Noraneko Heart' not found in the dataset.\n",
            "Anime 'Kemono Friends' not found in the dataset.\n",
            "Anime 'Youjo Senki' not found in the dataset.\n",
            "Anime 'Youkai Watch Movie 3: Soratobu Kujira to Double Sekai no Daibouken da Nyan!' not found in the dataset.\n",
            "Anime 'Ninja Bear' not found in the dataset.\n",
            "Anime 'Tantei Opera Milky Holmes: Fun Fun Party Night♪ - Ken to Janet no Okurimono' not found in the dataset.\n",
            "Anime 'Nyanko Days' not found in the dataset.\n",
            "Anime 'Overlord Movie' not found in the dataset.\n",
            "Anime 'Minami Kamakura Koukou Joshi Jitensha-bu' not found in the dataset.\n",
            "Anime 'Ginga Eiyuu Densetsu (2017)' not found in the dataset.\n",
            "Anime 'Senki Zesshou Symphogear 5th Season' not found in the dataset.\n",
            "Anime 'Hinako Note' not found in the dataset.\n",
            "Anime 'Shouwa Genroku Rakugo Shinjuu: Sukeroku Futatabi-hen' not found in the dataset.\n",
            "Anime 'Biohazard: Vendetta' not found in the dataset.\n",
            "Anime 'Code:Realize: Sousei no Himegimi' not found in the dataset.\n",
            "Anime 'Gabriel DropOut' not found in the dataset.\n",
            "Anime 'Dungeon ni Deai wo Motomeru no wa Machigatteiru Darou ka Gaiden: Sword Oratoria' not found in the dataset.\n",
            "Anime 'Sagurare Otome The Animation' not found in the dataset.\n",
            "Anime 'Zero kara Hajimeru Mahou no Sho' not found in the dataset.\n",
            "Anime 'Flying Babies' not found in the dataset.\n",
            "Anime 'Uchouten Kazoku 2' not found in the dataset.\n",
            "Anime 'Closers: Side Blacklambs' not found in the dataset.\n",
            "Anime 'Armed Blue: Gunvolt' not found in the dataset.\n",
            "Anime 'Hataraku Otona no Renai Jijou The Animation' not found in the dataset.\n",
            "Anime 'Charanpo Shima no Monogatari' not found in the dataset.\n",
            "Anime 'IDOLiSH7' not found in the dataset.\n",
            "Anime 'Mint' not found in the dataset.\n",
            "Anime 'Oshiete! Galko-chan (OVA)' not found in the dataset.\n",
            "Anime 'Kono Subarashii Sekai ni Shukufuku wo! 2' not found in the dataset.\n",
            "Anime 'Isekai Shokudou' not found in the dataset.\n",
            "Anime 'Trinity Seven Movie: Eternity Library to Alchemic Girl' not found in the dataset.\n",
            "Anime 'Kabukibu!' not found in the dataset.\n",
            "Anime 'Code Geass: Fukkatsu no Lelouch' not found in the dataset.\n",
            "Anime 'Masamune-kun no Revenge' not found in the dataset.\n",
            "Anime 'Violet Evergarden' not found in the dataset.\n",
            "Anime 'Taimanin Asagi 3' not found in the dataset.\n",
            "Anime 'Gamers!' not found in the dataset.\n",
            "Anime 'Kekkai Sensen &amp; Beyond' not found in the dataset.\n",
            "Anime 'Kantai Collection: KanColle Zoku-hen' not found in the dataset.\n",
            "Anime 'Starmyu 2nd Season' not found in the dataset.\n",
            "Precision: 0.9708\n",
            "Recall: 0.9708\n",
            "F1-score: 0.9708\n"
          ]
        }
      ]
    },
    {
      "cell_type": "code",
      "source": [
        "# Analyze the performance and identify areas for improvement\n",
        "print(\"\\nAnalysis:\")\n",
        "print(\"- The recommendation system's performance can be further improved by trying different thresholds and top_n values.\")\n",
        "print(\"- Consider using more features (e.g., 'members', 'episodes') in the similarity calculation.\")\n",
        "print(\"- Explore different similarity metrics other than cosine similarity.\")\n",
        "print(\"- Implement collaborative filtering techniques for improved performance.\")\n",
        "print(\"- Consider hybrid techniques that combine content and collaborative filtering.\")\n",
        "print(\"- Consider implementing techniques to handle cold start problem.\")\n"
      ],
      "metadata": {
        "id": "HmjbMXMeC8Ju",
        "colab": {
          "base_uri": "https://localhost:8080/"
        },
        "outputId": "4f34076d-3735-4e6c-8a63-24cd21d237cd"
      },
      "execution_count": null,
      "outputs": [
        {
          "output_type": "stream",
          "name": "stdout",
          "text": [
            "\n",
            "Analysis:\n",
            "- The recommendation system's performance can be further improved by trying different thresholds and top_n values.\n",
            "- Consider using more features (e.g., 'members', 'episodes') in the similarity calculation.\n",
            "- Explore different similarity metrics other than cosine similarity.\n",
            "- Implement collaborative filtering techniques for improved performance.\n",
            "- Consider hybrid techniques that combine content and collaborative filtering.\n",
            "- Consider implementing techniques to handle cold start problem.\n"
          ]
        }
      ]
    },
    {
      "cell_type": "code",
      "source": [],
      "metadata": {
        "id": "wSsFwbgUP0LY"
      },
      "execution_count": null,
      "outputs": []
    },
    {
      "cell_type": "markdown",
      "source": [
        "# Interview Questions:"
      ],
      "metadata": {
        "id": "EpDGGH_zqBt_"
      }
    },
    {
      "cell_type": "markdown",
      "source": [
        "**1.** Can you explain the difference between user-based and item-based collaborative filtering?\n",
        "\n",
        "**User-Based Collaborative Filtering:**\n",
        "\n",
        "* This approach identifies users who are similar to the target user based on their preferences or behavior (e.g., ratings or purchases).  \n",
        "* It assumes that if two users are similar, the items liked or rated highly by one user will likely interest the other.   \n",
        "\n",
        "Example: If User A and User B have similar preferences, and User B likes an item that User A hasn't interacted with, that item might be recommended to User A.\n",
        "\n",
        "\n",
        "**Item-Based Collaborative Filtering:**\n",
        "\n",
        "\n",
        "* This approach focuses on the similarity between items rather than users. It identifies items that are similar based on how users have interacted with them.  \n",
        "* It assumes that if a user likes one item, they are likely to enjoy similar items\n",
        "\n",
        "Example: If many users who bought Item X also bought Item Y, then Item Y might be recommended to a user who liked Item X.\n",
        "\n",
        "\n",
        "**Difference:**\n",
        "\n",
        "\n",
        "*  User-based focuses on user similarity to predict preferences, while item-based focuses on item similarity.\n",
        "*  Item-based filtering is often more scalable because user preferences tend to change frequently, whereas item relationships remain relatively stable over time.\n",
        "\n",
        "\n",
        "\n",
        "\n",
        "\n",
        "\n",
        "\n"
      ],
      "metadata": {
        "id": "yygjFVl8qBoR"
      }
    },
    {
      "cell_type": "code",
      "source": [],
      "metadata": {
        "id": "V9PRBNE9uj7G"
      },
      "execution_count": null,
      "outputs": []
    },
    {
      "cell_type": "markdown",
      "source": [
        "**2.** What is collaborative filtering, and how does it work?\n",
        "\n",
        "**Collaborative Filtering:**\n",
        "\n",
        "\n",
        "\n",
        "*  A recommendation system technique that predicts a user's preferences by relying on the past behavior and preferences of many users.   \n",
        "* It works by finding patterns in user-item interactions (e.g., ratings, clicks, purchases) to recommend items without requiring explicit domain knowledge about the items.  \n",
        "\n",
        "**How It Works:**\n",
        "\n",
        "\n",
        "1. Data Collection: Gather user-item interaction data, such as ratings, purchase history, or clicks.   \n",
        "2. Similarity Calculation: Determine similarities between users (user-based) or items (item-based).  \n",
        "3. Prediction: Use these similarities to predict a user's interest in an item they haven't interacted with yet.\n",
        "4. Recommendation: Recommend the top-ranked items to the user.\n",
        "\n",
        "\n",
        "\n",
        "\n",
        "\n",
        "\n"
      ],
      "metadata": {
        "id": "U2spHQWnqBev"
      }
    },
    {
      "cell_type": "markdown",
      "source": [],
      "metadata": {
        "id": "HHc4aVU9qBLr"
      }
    }
  ]
}