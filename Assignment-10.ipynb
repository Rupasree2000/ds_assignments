{
  "nbformat": 4,
  "nbformat_minor": 0,
  "metadata": {
    "colab": {
      "provenance": []
    },
    "kernelspec": {
      "name": "python3",
      "display_name": "Python 3"
    },
    "language_info": {
      "name": "python"
    }
  },
  "cells": [
    {
      "cell_type": "markdown",
      "source": [
        "# Association Rules"
      ],
      "metadata": {
        "id": "uRSHe1b53Tsg"
      }
    },
    {
      "cell_type": "markdown",
      "source": [
        "Data Preprocessing:"
      ],
      "metadata": {
        "id": "rpDbDwwm3TWi"
      }
    },
    {
      "cell_type": "code",
      "source": [
        "import pandas as pd\n",
        "import numpy as np\n",
        "from mlxtend.frequent_patterns import apriori,association_rules\n",
        "from mlxtend.preprocessing import TransactionEncoder\n"
      ],
      "metadata": {
        "id": "OP_ep3CB49kV"
      },
      "execution_count": 91,
      "outputs": []
    },
    {
      "cell_type": "code",
      "source": [
        "df = pd.read_excel(\"/content/Online retail.xlsx\")"
      ],
      "metadata": {
        "id": "SJTCypvoq4pG"
      },
      "execution_count": 92,
      "outputs": []
    },
    {
      "cell_type": "code",
      "source": [
        "df"
      ],
      "metadata": {
        "colab": {
          "base_uri": "https://localhost:8080/",
          "height": 458
        },
        "id": "xMM2o16L5Q7g",
        "outputId": "76593fd6-8486-4ff1-de3a-4341bc19a318"
      },
      "execution_count": 93,
      "outputs": [
        {
          "output_type": "execute_result",
          "data": {
            "text/plain": [
              "     shrimp,almonds,avocado,vegetables mix,green grapes,whole weat flour,yams,cottage cheese,energy drink,tomato juice,low fat yogurt,green tea,honey,salad,mineral water,salmon,antioxydant juice,frozen smoothie,spinach,olive oil\n",
              "0                                burgers,meatballs,eggs                                                                                                                                                                             \n",
              "1                                               chutney                                                                                                                                                                             \n",
              "2                                        turkey,avocado                                                                                                                                                                             \n",
              "3     mineral water,milk,energy bar,whole wheat rice...                                                                                                                                                                             \n",
              "4                                        low fat yogurt                                                                                                                                                                             \n",
              "...                                                 ...                                                                                                                                                                             \n",
              "7495                      butter,light mayo,fresh bread                                                                                                                                                                             \n",
              "7496  burgers,frozen vegetables,eggs,french fries,ma...                                                                                                                                                                             \n",
              "7497                                            chicken                                                                                                                                                                             \n",
              "7498                                 escalope,green tea                                                                                                                                                                             \n",
              "7499    eggs,frozen smoothie,yogurt cake,low fat yogurt                                                                                                                                                                             \n",
              "\n",
              "[7500 rows x 1 columns]"
            ],
            "text/html": [
              "\n",
              "  <div id=\"df-3f461337-3719-4c67-8df2-e69824e54812\" class=\"colab-df-container\">\n",
              "    <div>\n",
              "<style scoped>\n",
              "    .dataframe tbody tr th:only-of-type {\n",
              "        vertical-align: middle;\n",
              "    }\n",
              "\n",
              "    .dataframe tbody tr th {\n",
              "        vertical-align: top;\n",
              "    }\n",
              "\n",
              "    .dataframe thead th {\n",
              "        text-align: right;\n",
              "    }\n",
              "</style>\n",
              "<table border=\"1\" class=\"dataframe\">\n",
              "  <thead>\n",
              "    <tr style=\"text-align: right;\">\n",
              "      <th></th>\n",
              "      <th>shrimp,almonds,avocado,vegetables mix,green grapes,whole weat flour,yams,cottage cheese,energy drink,tomato juice,low fat yogurt,green tea,honey,salad,mineral water,salmon,antioxydant juice,frozen smoothie,spinach,olive oil</th>\n",
              "    </tr>\n",
              "  </thead>\n",
              "  <tbody>\n",
              "    <tr>\n",
              "      <th>0</th>\n",
              "      <td>burgers,meatballs,eggs</td>\n",
              "    </tr>\n",
              "    <tr>\n",
              "      <th>1</th>\n",
              "      <td>chutney</td>\n",
              "    </tr>\n",
              "    <tr>\n",
              "      <th>2</th>\n",
              "      <td>turkey,avocado</td>\n",
              "    </tr>\n",
              "    <tr>\n",
              "      <th>3</th>\n",
              "      <td>mineral water,milk,energy bar,whole wheat rice...</td>\n",
              "    </tr>\n",
              "    <tr>\n",
              "      <th>4</th>\n",
              "      <td>low fat yogurt</td>\n",
              "    </tr>\n",
              "    <tr>\n",
              "      <th>...</th>\n",
              "      <td>...</td>\n",
              "    </tr>\n",
              "    <tr>\n",
              "      <th>7495</th>\n",
              "      <td>butter,light mayo,fresh bread</td>\n",
              "    </tr>\n",
              "    <tr>\n",
              "      <th>7496</th>\n",
              "      <td>burgers,frozen vegetables,eggs,french fries,ma...</td>\n",
              "    </tr>\n",
              "    <tr>\n",
              "      <th>7497</th>\n",
              "      <td>chicken</td>\n",
              "    </tr>\n",
              "    <tr>\n",
              "      <th>7498</th>\n",
              "      <td>escalope,green tea</td>\n",
              "    </tr>\n",
              "    <tr>\n",
              "      <th>7499</th>\n",
              "      <td>eggs,frozen smoothie,yogurt cake,low fat yogurt</td>\n",
              "    </tr>\n",
              "  </tbody>\n",
              "</table>\n",
              "<p>7500 rows × 1 columns</p>\n",
              "</div>\n",
              "    <div class=\"colab-df-buttons\">\n",
              "\n",
              "  <div class=\"colab-df-container\">\n",
              "    <button class=\"colab-df-convert\" onclick=\"convertToInteractive('df-3f461337-3719-4c67-8df2-e69824e54812')\"\n",
              "            title=\"Convert this dataframe to an interactive table.\"\n",
              "            style=\"display:none;\">\n",
              "\n",
              "  <svg xmlns=\"http://www.w3.org/2000/svg\" height=\"24px\" viewBox=\"0 -960 960 960\">\n",
              "    <path d=\"M120-120v-720h720v720H120Zm60-500h600v-160H180v160Zm220 220h160v-160H400v160Zm0 220h160v-160H400v160ZM180-400h160v-160H180v160Zm440 0h160v-160H620v160ZM180-180h160v-160H180v160Zm440 0h160v-160H620v160Z\"/>\n",
              "  </svg>\n",
              "    </button>\n",
              "\n",
              "  <style>\n",
              "    .colab-df-container {\n",
              "      display:flex;\n",
              "      gap: 12px;\n",
              "    }\n",
              "\n",
              "    .colab-df-convert {\n",
              "      background-color: #E8F0FE;\n",
              "      border: none;\n",
              "      border-radius: 50%;\n",
              "      cursor: pointer;\n",
              "      display: none;\n",
              "      fill: #1967D2;\n",
              "      height: 32px;\n",
              "      padding: 0 0 0 0;\n",
              "      width: 32px;\n",
              "    }\n",
              "\n",
              "    .colab-df-convert:hover {\n",
              "      background-color: #E2EBFA;\n",
              "      box-shadow: 0px 1px 2px rgba(60, 64, 67, 0.3), 0px 1px 3px 1px rgba(60, 64, 67, 0.15);\n",
              "      fill: #174EA6;\n",
              "    }\n",
              "\n",
              "    .colab-df-buttons div {\n",
              "      margin-bottom: 4px;\n",
              "    }\n",
              "\n",
              "    [theme=dark] .colab-df-convert {\n",
              "      background-color: #3B4455;\n",
              "      fill: #D2E3FC;\n",
              "    }\n",
              "\n",
              "    [theme=dark] .colab-df-convert:hover {\n",
              "      background-color: #434B5C;\n",
              "      box-shadow: 0px 1px 3px 1px rgba(0, 0, 0, 0.15);\n",
              "      filter: drop-shadow(0px 1px 2px rgba(0, 0, 0, 0.3));\n",
              "      fill: #FFFFFF;\n",
              "    }\n",
              "  </style>\n",
              "\n",
              "    <script>\n",
              "      const buttonEl =\n",
              "        document.querySelector('#df-3f461337-3719-4c67-8df2-e69824e54812 button.colab-df-convert');\n",
              "      buttonEl.style.display =\n",
              "        google.colab.kernel.accessAllowed ? 'block' : 'none';\n",
              "\n",
              "      async function convertToInteractive(key) {\n",
              "        const element = document.querySelector('#df-3f461337-3719-4c67-8df2-e69824e54812');\n",
              "        const dataTable =\n",
              "          await google.colab.kernel.invokeFunction('convertToInteractive',\n",
              "                                                    [key], {});\n",
              "        if (!dataTable) return;\n",
              "\n",
              "        const docLinkHtml = 'Like what you see? Visit the ' +\n",
              "          '<a target=\"_blank\" href=https://colab.research.google.com/notebooks/data_table.ipynb>data table notebook</a>'\n",
              "          + ' to learn more about interactive tables.';\n",
              "        element.innerHTML = '';\n",
              "        dataTable['output_type'] = 'display_data';\n",
              "        await google.colab.output.renderOutput(dataTable, element);\n",
              "        const docLink = document.createElement('div');\n",
              "        docLink.innerHTML = docLinkHtml;\n",
              "        element.appendChild(docLink);\n",
              "      }\n",
              "    </script>\n",
              "  </div>\n",
              "\n",
              "\n",
              "<div id=\"df-65b61d88-c458-4b69-a3bf-ea341b9654df\">\n",
              "  <button class=\"colab-df-quickchart\" onclick=\"quickchart('df-65b61d88-c458-4b69-a3bf-ea341b9654df')\"\n",
              "            title=\"Suggest charts\"\n",
              "            style=\"display:none;\">\n",
              "\n",
              "<svg xmlns=\"http://www.w3.org/2000/svg\" height=\"24px\"viewBox=\"0 0 24 24\"\n",
              "     width=\"24px\">\n",
              "    <g>\n",
              "        <path d=\"M19 3H5c-1.1 0-2 .9-2 2v14c0 1.1.9 2 2 2h14c1.1 0 2-.9 2-2V5c0-1.1-.9-2-2-2zM9 17H7v-7h2v7zm4 0h-2V7h2v10zm4 0h-2v-4h2v4z\"/>\n",
              "    </g>\n",
              "</svg>\n",
              "  </button>\n",
              "\n",
              "<style>\n",
              "  .colab-df-quickchart {\n",
              "      --bg-color: #E8F0FE;\n",
              "      --fill-color: #1967D2;\n",
              "      --hover-bg-color: #E2EBFA;\n",
              "      --hover-fill-color: #174EA6;\n",
              "      --disabled-fill-color: #AAA;\n",
              "      --disabled-bg-color: #DDD;\n",
              "  }\n",
              "\n",
              "  [theme=dark] .colab-df-quickchart {\n",
              "      --bg-color: #3B4455;\n",
              "      --fill-color: #D2E3FC;\n",
              "      --hover-bg-color: #434B5C;\n",
              "      --hover-fill-color: #FFFFFF;\n",
              "      --disabled-bg-color: #3B4455;\n",
              "      --disabled-fill-color: #666;\n",
              "  }\n",
              "\n",
              "  .colab-df-quickchart {\n",
              "    background-color: var(--bg-color);\n",
              "    border: none;\n",
              "    border-radius: 50%;\n",
              "    cursor: pointer;\n",
              "    display: none;\n",
              "    fill: var(--fill-color);\n",
              "    height: 32px;\n",
              "    padding: 0;\n",
              "    width: 32px;\n",
              "  }\n",
              "\n",
              "  .colab-df-quickchart:hover {\n",
              "    background-color: var(--hover-bg-color);\n",
              "    box-shadow: 0 1px 2px rgba(60, 64, 67, 0.3), 0 1px 3px 1px rgba(60, 64, 67, 0.15);\n",
              "    fill: var(--button-hover-fill-color);\n",
              "  }\n",
              "\n",
              "  .colab-df-quickchart-complete:disabled,\n",
              "  .colab-df-quickchart-complete:disabled:hover {\n",
              "    background-color: var(--disabled-bg-color);\n",
              "    fill: var(--disabled-fill-color);\n",
              "    box-shadow: none;\n",
              "  }\n",
              "\n",
              "  .colab-df-spinner {\n",
              "    border: 2px solid var(--fill-color);\n",
              "    border-color: transparent;\n",
              "    border-bottom-color: var(--fill-color);\n",
              "    animation:\n",
              "      spin 1s steps(1) infinite;\n",
              "  }\n",
              "\n",
              "  @keyframes spin {\n",
              "    0% {\n",
              "      border-color: transparent;\n",
              "      border-bottom-color: var(--fill-color);\n",
              "      border-left-color: var(--fill-color);\n",
              "    }\n",
              "    20% {\n",
              "      border-color: transparent;\n",
              "      border-left-color: var(--fill-color);\n",
              "      border-top-color: var(--fill-color);\n",
              "    }\n",
              "    30% {\n",
              "      border-color: transparent;\n",
              "      border-left-color: var(--fill-color);\n",
              "      border-top-color: var(--fill-color);\n",
              "      border-right-color: var(--fill-color);\n",
              "    }\n",
              "    40% {\n",
              "      border-color: transparent;\n",
              "      border-right-color: var(--fill-color);\n",
              "      border-top-color: var(--fill-color);\n",
              "    }\n",
              "    60% {\n",
              "      border-color: transparent;\n",
              "      border-right-color: var(--fill-color);\n",
              "    }\n",
              "    80% {\n",
              "      border-color: transparent;\n",
              "      border-right-color: var(--fill-color);\n",
              "      border-bottom-color: var(--fill-color);\n",
              "    }\n",
              "    90% {\n",
              "      border-color: transparent;\n",
              "      border-bottom-color: var(--fill-color);\n",
              "    }\n",
              "  }\n",
              "</style>\n",
              "\n",
              "  <script>\n",
              "    async function quickchart(key) {\n",
              "      const quickchartButtonEl =\n",
              "        document.querySelector('#' + key + ' button');\n",
              "      quickchartButtonEl.disabled = true;  // To prevent multiple clicks.\n",
              "      quickchartButtonEl.classList.add('colab-df-spinner');\n",
              "      try {\n",
              "        const charts = await google.colab.kernel.invokeFunction(\n",
              "            'suggestCharts', [key], {});\n",
              "      } catch (error) {\n",
              "        console.error('Error during call to suggestCharts:', error);\n",
              "      }\n",
              "      quickchartButtonEl.classList.remove('colab-df-spinner');\n",
              "      quickchartButtonEl.classList.add('colab-df-quickchart-complete');\n",
              "    }\n",
              "    (() => {\n",
              "      let quickchartButtonEl =\n",
              "        document.querySelector('#df-65b61d88-c458-4b69-a3bf-ea341b9654df button');\n",
              "      quickchartButtonEl.style.display =\n",
              "        google.colab.kernel.accessAllowed ? 'block' : 'none';\n",
              "    })();\n",
              "  </script>\n",
              "</div>\n",
              "\n",
              "  <div id=\"id_0d4996f9-d391-4806-8f9f-228ed6f4d4e8\">\n",
              "    <style>\n",
              "      .colab-df-generate {\n",
              "        background-color: #E8F0FE;\n",
              "        border: none;\n",
              "        border-radius: 50%;\n",
              "        cursor: pointer;\n",
              "        display: none;\n",
              "        fill: #1967D2;\n",
              "        height: 32px;\n",
              "        padding: 0 0 0 0;\n",
              "        width: 32px;\n",
              "      }\n",
              "\n",
              "      .colab-df-generate:hover {\n",
              "        background-color: #E2EBFA;\n",
              "        box-shadow: 0px 1px 2px rgba(60, 64, 67, 0.3), 0px 1px 3px 1px rgba(60, 64, 67, 0.15);\n",
              "        fill: #174EA6;\n",
              "      }\n",
              "\n",
              "      [theme=dark] .colab-df-generate {\n",
              "        background-color: #3B4455;\n",
              "        fill: #D2E3FC;\n",
              "      }\n",
              "\n",
              "      [theme=dark] .colab-df-generate:hover {\n",
              "        background-color: #434B5C;\n",
              "        box-shadow: 0px 1px 3px 1px rgba(0, 0, 0, 0.15);\n",
              "        filter: drop-shadow(0px 1px 2px rgba(0, 0, 0, 0.3));\n",
              "        fill: #FFFFFF;\n",
              "      }\n",
              "    </style>\n",
              "    <button class=\"colab-df-generate\" onclick=\"generateWithVariable('df')\"\n",
              "            title=\"Generate code using this dataframe.\"\n",
              "            style=\"display:none;\">\n",
              "\n",
              "  <svg xmlns=\"http://www.w3.org/2000/svg\" height=\"24px\"viewBox=\"0 0 24 24\"\n",
              "       width=\"24px\">\n",
              "    <path d=\"M7,19H8.4L18.45,9,17,7.55,7,17.6ZM5,21V16.75L18.45,3.32a2,2,0,0,1,2.83,0l1.4,1.43a1.91,1.91,0,0,1,.58,1.4,1.91,1.91,0,0,1-.58,1.4L9.25,21ZM18.45,9,17,7.55Zm-12,3A5.31,5.31,0,0,0,4.9,8.1,5.31,5.31,0,0,0,1,6.5,5.31,5.31,0,0,0,4.9,4.9,5.31,5.31,0,0,0,6.5,1,5.31,5.31,0,0,0,8.1,4.9,5.31,5.31,0,0,0,12,6.5,5.46,5.46,0,0,0,6.5,12Z\"/>\n",
              "  </svg>\n",
              "    </button>\n",
              "    <script>\n",
              "      (() => {\n",
              "      const buttonEl =\n",
              "        document.querySelector('#id_0d4996f9-d391-4806-8f9f-228ed6f4d4e8 button.colab-df-generate');\n",
              "      buttonEl.style.display =\n",
              "        google.colab.kernel.accessAllowed ? 'block' : 'none';\n",
              "\n",
              "      buttonEl.onclick = () => {\n",
              "        google.colab.notebook.generateWithVariable('df');\n",
              "      }\n",
              "      })();\n",
              "    </script>\n",
              "  </div>\n",
              "\n",
              "    </div>\n",
              "  </div>\n"
            ],
            "application/vnd.google.colaboratory.intrinsic+json": {
              "type": "dataframe",
              "variable_name": "df",
              "summary": "{\n  \"name\": \"df\",\n  \"rows\": 7500,\n  \"fields\": [\n    {\n      \"column\": \"shrimp,almonds,avocado,vegetables mix,green grapes,whole weat flour,yams,cottage cheese,energy drink,tomato juice,low fat yogurt,green tea,honey,salad,mineral water,salmon,antioxydant juice,frozen smoothie,spinach,olive oil\",\n      \"properties\": {\n        \"dtype\": \"string\",\n        \"num_unique_values\": 5175,\n        \"samples\": [\n          \"turkey,burgers,fresh tuna,frozen vegetables,eggs,cake,pancakes,fresh bread\",\n          \"ground beef,cookies,toothpaste,green tea\",\n          \"burgers,milk,cake,eggplant,green tea\"\n        ],\n        \"semantic_type\": \"\",\n        \"description\": \"\"\n      }\n    }\n  ]\n}"
            }
          },
          "metadata": {},
          "execution_count": 93
        }
      ]
    },
    {
      "cell_type": "code",
      "source": [
        "print(df.head())"
      ],
      "metadata": {
        "colab": {
          "base_uri": "https://localhost:8080/"
        },
        "id": "wj89KSfKwobA",
        "outputId": "0baabcfb-20d8-456d-fbfd-ee6967533efa"
      },
      "execution_count": 94,
      "outputs": [
        {
          "output_type": "stream",
          "name": "stdout",
          "text": [
            "  shrimp,almonds,avocado,vegetables mix,green grapes,whole weat flour,yams,cottage cheese,energy drink,tomato juice,low fat yogurt,green tea,honey,salad,mineral water,salmon,antioxydant juice,frozen smoothie,spinach,olive oil\n",
            "0                             burgers,meatballs,eggs                                                                                                                                                                             \n",
            "1                                            chutney                                                                                                                                                                             \n",
            "2                                     turkey,avocado                                                                                                                                                                             \n",
            "3  mineral water,milk,energy bar,whole wheat rice...                                                                                                                                                                             \n",
            "4                                     low fat yogurt                                                                                                                                                                             \n"
          ]
        }
      ]
    },
    {
      "cell_type": "code",
      "source": [
        "print(df.info())"
      ],
      "metadata": {
        "colab": {
          "base_uri": "https://localhost:8080/"
        },
        "id": "DH5yfFOGxLeR",
        "outputId": "028393d9-d9ee-4f62-a024-cf764c530396"
      },
      "execution_count": 95,
      "outputs": [
        {
          "output_type": "stream",
          "name": "stdout",
          "text": [
            "<class 'pandas.core.frame.DataFrame'>\n",
            "RangeIndex: 7500 entries, 0 to 7499\n",
            "Data columns (total 1 columns):\n",
            " #   Column                                                                                                                                                                                                                           Non-Null Count  Dtype \n",
            "---  ------                                                                                                                                                                                                                           --------------  ----- \n",
            " 0   shrimp,almonds,avocado,vegetables mix,green grapes,whole weat flour,yams,cottage cheese,energy drink,tomato juice,low fat yogurt,green tea,honey,salad,mineral water,salmon,antioxydant juice,frozen smoothie,spinach,olive oil  7500 non-null   object\n",
            "dtypes: object(1)\n",
            "memory usage: 58.7+ KB\n",
            "None\n"
          ]
        }
      ]
    },
    {
      "cell_type": "code",
      "source": [
        "print(df.describe())"
      ],
      "metadata": {
        "colab": {
          "base_uri": "https://localhost:8080/"
        },
        "id": "ar0XfxSJxLa4",
        "outputId": "64818f29-52df-4356-ca13-833860febb32"
      },
      "execution_count": 96,
      "outputs": [
        {
          "output_type": "stream",
          "name": "stdout",
          "text": [
            "       shrimp,almonds,avocado,vegetables mix,green grapes,whole weat flour,yams,cottage cheese,energy drink,tomato juice,low fat yogurt,green tea,honey,salad,mineral water,salmon,antioxydant juice,frozen smoothie,spinach,olive oil\n",
            "count                                                7500                                                                                                                                                                             \n",
            "unique                                               5175                                                                                                                                                                             \n",
            "top                                               cookies                                                                                                                                                                             \n",
            "freq                                                  223                                                                                                                                                                             \n"
          ]
        }
      ]
    },
    {
      "cell_type": "code",
      "source": [
        "print(df.shape)"
      ],
      "metadata": {
        "colab": {
          "base_uri": "https://localhost:8080/"
        },
        "id": "VNE7Dpf7xRLV",
        "outputId": "83be16ac-991d-40a8-eea8-fbe384d59aea"
      },
      "execution_count": 97,
      "outputs": [
        {
          "output_type": "stream",
          "name": "stdout",
          "text": [
            "(7500, 1)\n"
          ]
        }
      ]
    },
    {
      "cell_type": "code",
      "source": [
        "print(df.columns)"
      ],
      "metadata": {
        "colab": {
          "base_uri": "https://localhost:8080/"
        },
        "id": "L7sTxz1sxucf",
        "outputId": "14d672e6-fe14-4f0c-b71f-f056fba11e7b"
      },
      "execution_count": 98,
      "outputs": [
        {
          "output_type": "stream",
          "name": "stdout",
          "text": [
            "Index(['shrimp,almonds,avocado,vegetables mix,green grapes,whole weat flour,yams,cottage cheese,energy drink,tomato juice,low fat yogurt,green tea,honey,salad,mineral water,salmon,antioxydant juice,frozen smoothie,spinach,olive oil'], dtype='object')\n"
          ]
        }
      ]
    },
    {
      "cell_type": "code",
      "source": [
        "# Handle missing values\n",
        "df_cleaned = df.dropna()\n",
        "print(df.isnull().sum())\n"
      ],
      "metadata": {
        "colab": {
          "base_uri": "https://localhost:8080/"
        },
        "id": "aK1RO8ph1-1B",
        "outputId": "558859b0-eace-4d1b-9a71-efa6be74a7db"
      },
      "execution_count": 99,
      "outputs": [
        {
          "output_type": "stream",
          "name": "stdout",
          "text": [
            "shrimp,almonds,avocado,vegetables mix,green grapes,whole weat flour,yams,cottage cheese,energy drink,tomato juice,low fat yogurt,green tea,honey,salad,mineral water,salmon,antioxydant juice,frozen smoothie,spinach,olive oil    0\n",
            "dtype: int64\n"
          ]
        }
      ]
    },
    {
      "cell_type": "code",
      "source": [
        "# Remove duplicates\n",
        "df_cleaned = df_cleaned.drop_duplicates()\n",
        "print(df_cleaned)"
      ],
      "metadata": {
        "colab": {
          "base_uri": "https://localhost:8080/"
        },
        "id": "hgnSiqoZ6GJU",
        "outputId": "23200f24-6fbb-4ab5-b999-ac4c31f4ef61"
      },
      "execution_count": 100,
      "outputs": [
        {
          "output_type": "stream",
          "name": "stdout",
          "text": [
            "     shrimp,almonds,avocado,vegetables mix,green grapes,whole weat flour,yams,cottage cheese,energy drink,tomato juice,low fat yogurt,green tea,honey,salad,mineral water,salmon,antioxydant juice,frozen smoothie,spinach,olive oil\n",
            "0                                burgers,meatballs,eggs                                                                                                                                                                             \n",
            "1                                               chutney                                                                                                                                                                             \n",
            "2                                        turkey,avocado                                                                                                                                                                             \n",
            "3     mineral water,milk,energy bar,whole wheat rice...                                                                                                                                                                             \n",
            "4                                        low fat yogurt                                                                                                                                                                             \n",
            "...                                                 ...                                                                                                                                                                             \n",
            "7492  burgers,salmon,pancakes,french fries,frozen sm...                                                                                                                                                                             \n",
            "7493  turkey,burgers,dessert wine,shrimp,pasta,tomat...                                                                                                                                                                             \n",
            "7495                      butter,light mayo,fresh bread                                                                                                                                                                             \n",
            "7496  burgers,frozen vegetables,eggs,french fries,ma...                                                                                                                                                                             \n",
            "7499    eggs,frozen smoothie,yogurt cake,low fat yogurt                                                                                                                                                                             \n",
            "\n",
            "[5175 rows x 1 columns]\n"
          ]
        }
      ]
    },
    {
      "cell_type": "markdown",
      "source": [
        "Association Rule Mining:"
      ],
      "metadata": {
        "id": "KRnzHut93_pK"
      }
    },
    {
      "cell_type": "code",
      "source": [
        "# Convert the data into a list of transactions\n",
        "transactions = [transaction.split(',') for transaction in df]"
      ],
      "metadata": {
        "id": "hhT2enLHODag"
      },
      "execution_count": 101,
      "outputs": []
    },
    {
      "cell_type": "code",
      "source": [
        "print(transactions[:5])"
      ],
      "metadata": {
        "colab": {
          "base_uri": "https://localhost:8080/"
        },
        "id": "gsECIn8wOJts",
        "outputId": "f450e926-4296-4791-ac7f-ea049f48043e"
      },
      "execution_count": 102,
      "outputs": [
        {
          "output_type": "stream",
          "name": "stdout",
          "text": [
            "[['shrimp', 'almonds', 'avocado', 'vegetables mix', 'green grapes', 'whole weat flour', 'yams', 'cottage cheese', 'energy drink', 'tomato juice', 'low fat yogurt', 'green tea', 'honey', 'salad', 'mineral water', 'salmon', 'antioxydant juice', 'frozen smoothie', 'spinach', 'olive oil']]\n"
          ]
        }
      ]
    },
    {
      "cell_type": "code",
      "source": [
        "# One-hot encoding of the basket data\n",
        "te = TransactionEncoder()\n",
        "te_ary = te.fit(transactions).transform(transactions)\n",
        "# Convert the array into a DataFrame\n",
        "basket = pd.DataFrame(te_ary, columns=te.columns_)"
      ],
      "metadata": {
        "id": "_LAVn7HN0T9t"
      },
      "execution_count": 103,
      "outputs": []
    },
    {
      "cell_type": "code",
      "source": [
        "# Display the first few rows of the basket\n",
        "print(basket.head())"
      ],
      "metadata": {
        "colab": {
          "base_uri": "https://localhost:8080/"
        },
        "id": "7klK06sG4RIK",
        "outputId": "e51a383f-437d-48f9-c176-12888a240259"
      },
      "execution_count": 104,
      "outputs": [
        {
          "output_type": "stream",
          "name": "stdout",
          "text": [
            "   almonds  antioxydant juice  avocado  cottage cheese  energy drink  \\\n",
            "0     True               True     True            True          True   \n",
            "\n",
            "   frozen smoothie  green grapes  green tea  honey  low fat yogurt  \\\n",
            "0             True          True       True   True            True   \n",
            "\n",
            "   mineral water  olive oil  salad  salmon  shrimp  spinach  tomato juice  \\\n",
            "0           True       True   True    True    True     True          True   \n",
            "\n",
            "   vegetables mix  whole weat flour  yams  \n",
            "0            True              True  True  \n"
          ]
        }
      ]
    },
    {
      "cell_type": "code",
      "source": [
        "# Example transactions (replace this with your actual transaction data)\n",
        "transactions = [\n",
        "    ['milk', 'bread', 'butter'],\n",
        "    ['bread', 'butter', 'jam'],\n",
        "    ['milk', 'bread'],\n",
        "]\n",
        "\n",
        "# Initialize TransactionEncoder\n",
        "te = TransactionEncoder()\n",
        "\n",
        "# Transform transactions into a one-hot encoded array\n",
        "te_ary = te.fit(transactions).transform(transactions)\n",
        "\n",
        "# Convert the array into a DataFrame\n",
        "basket = pd.DataFrame(te_ary, columns=te.columns_)\n",
        "\n",
        "# Check if `basket` is defined and properly structured\n",
        "print(basket.head())"
      ],
      "metadata": {
        "colab": {
          "base_uri": "https://localhost:8080/"
        },
        "id": "BDtu6YqTOjsd",
        "outputId": "12918125-199a-4612-bef2-a58511cbb36a"
      },
      "execution_count": 105,
      "outputs": [
        {
          "output_type": "stream",
          "name": "stdout",
          "text": [
            "   bread  butter    jam   milk\n",
            "0   True    True  False   True\n",
            "1   True    True   True  False\n",
            "2   True   False  False   True\n"
          ]
        }
      ]
    },
    {
      "cell_type": "code",
      "source": [
        "# Apriori Algorithm\n",
        "# Set minimum support threshold\n",
        "min_support = 0.01  # Adjust this threshold as needed\n",
        "print(min_support)\n"
      ],
      "metadata": {
        "colab": {
          "base_uri": "https://localhost:8080/"
        },
        "id": "WX4y8Rz63gZg",
        "outputId": "8154cbdf-544a-4809-8b94-f73cade92f4c"
      },
      "execution_count": 106,
      "outputs": [
        {
          "output_type": "stream",
          "name": "stdout",
          "text": [
            "0.01\n"
          ]
        }
      ]
    },
    {
      "cell_type": "code",
      "source": [
        "# Generate frequent itemsets\n",
        "frequent_itemsets = apriori(df_encoded, min_support=min_support, use_colnames=True)\n",
        "print(frequent_itemsets)"
      ],
      "metadata": {
        "colab": {
          "base_uri": "https://localhost:8080/"
        },
        "id": "mNCwbplx2Gmh",
        "outputId": "db3113ce-d6ef-4646-b03f-4b0095eb37ad"
      },
      "execution_count": 107,
      "outputs": [
        {
          "output_type": "stream",
          "name": "stdout",
          "text": [
            "     support               itemsets\n",
            "0   1.000000                (bread)\n",
            "1   0.666667               (butter)\n",
            "2   0.333333                  (jam)\n",
            "3   0.666667                 (milk)\n",
            "4   0.666667        (butter, bread)\n",
            "5   0.333333           (bread, jam)\n",
            "6   0.666667          (bread, milk)\n",
            "7   0.333333          (butter, jam)\n",
            "8   0.333333         (butter, milk)\n",
            "9   0.333333   (butter, bread, jam)\n",
            "10  0.333333  (butter, bread, milk)\n"
          ]
        }
      ]
    },
    {
      "cell_type": "code",
      "source": [
        "# Association Rule Mining\n",
        "# Set minimum confidence and lift thresholds\n",
        "min_confidence = 0.2  # Adjust this threshold as needed\n",
        "min_lift = 1.0      # Adjust this threshold as needed\n",
        "print(min_confidence)\n",
        "print(min_lift)"
      ],
      "metadata": {
        "colab": {
          "base_uri": "https://localhost:8080/"
        },
        "id": "nV315ACe2GjJ",
        "outputId": "b7d957a8-f331-4b0a-9ca3-554412a08180"
      },
      "execution_count": 108,
      "outputs": [
        {
          "output_type": "stream",
          "name": "stdout",
          "text": [
            "0.2\n",
            "1.0\n"
          ]
        }
      ]
    },
    {
      "cell_type": "code",
      "source": [
        "# Calculate the number of frequent itemsets\n",
        "num_itemsets = len(frequent_itemsets)\n",
        "\n",
        "# Generate the association rules with 'num_itemsets'\n",
        "rules = association_rules(frequent_itemsets, metric=\"lift\", min_threshold=1.0, num_itemsets=num_itemsets)\n",
        "\n",
        "# Display the rules\n",
        "print(rules.head())\n"
      ],
      "metadata": {
        "colab": {
          "base_uri": "https://localhost:8080/"
        },
        "id": "HWxyYnqC5TQw",
        "outputId": "3bbea276-3a3c-4f4e-ab29-faf5f0cb2bb0"
      },
      "execution_count": 109,
      "outputs": [
        {
          "output_type": "stream",
          "name": "stdout",
          "text": [
            "  antecedents consequents  antecedent support  consequent support   support  \\\n",
            "0    (butter)     (bread)            0.666667            1.000000  0.666667   \n",
            "1     (bread)    (butter)            1.000000            0.666667  0.666667   \n",
            "2     (bread)       (jam)            1.000000            0.333333  0.333333   \n",
            "3       (jam)     (bread)            0.333333            1.000000  0.333333   \n",
            "4     (bread)      (milk)            1.000000            0.666667  0.666667   \n",
            "\n",
            "   confidence  lift  representativity  leverage  conviction  zhangs_metric  \\\n",
            "0    1.000000   1.0               1.0       0.0         inf            0.0   \n",
            "1    0.666667   1.0               1.0       0.0         1.0            0.0   \n",
            "2    0.333333   1.0               1.0       0.0         1.0            0.0   \n",
            "3    1.000000   1.0               1.0       0.0         inf            0.0   \n",
            "4    0.666667   1.0               1.0       0.0         1.0            0.0   \n",
            "\n",
            "    jaccard  certainty  kulczynski  \n",
            "0  0.666667        0.0    0.833333  \n",
            "1  0.666667        0.0    0.833333  \n",
            "2  0.333333        0.0    0.666667  \n",
            "3  0.333333        0.0    0.666667  \n",
            "4  0.666667        0.0    0.833333  \n"
          ]
        },
        {
          "output_type": "stream",
          "name": "stderr",
          "text": [
            "/usr/local/lib/python3.10/dist-packages/mlxtend/frequent_patterns/association_rules.py:182: RuntimeWarning: invalid value encountered in divide\n",
            "  cert_metric = np.where(certainty_denom == 0, 0, certainty_num / certainty_denom)\n"
          ]
        }
      ]
    },
    {
      "cell_type": "code",
      "source": [
        "# Filter rules based on lift\n",
        "filtered_rules = rules[rules['lift'] >= min_lift]"
      ],
      "metadata": {
        "id": "fq5YU4Cy2U6d"
      },
      "execution_count": 110,
      "outputs": []
    },
    {
      "cell_type": "code",
      "source": [
        "# Display the frequent itemsets and association rules\n",
        "print(\"Frequent Itemsets:\\n\", frequent_itemsets)\n",
        "print(\"\\nAssociation Rules:\\n\", filtered_rules)"
      ],
      "metadata": {
        "colab": {
          "base_uri": "https://localhost:8080/"
        },
        "id": "frm61Wqv2pQd",
        "outputId": "c58f93a0-0b01-44eb-a710-506859906b64"
      },
      "execution_count": 111,
      "outputs": [
        {
          "output_type": "stream",
          "name": "stdout",
          "text": [
            "Frequent Itemsets:\n",
            "      support               itemsets\n",
            "0   1.000000                (bread)\n",
            "1   0.666667               (butter)\n",
            "2   0.333333                  (jam)\n",
            "3   0.666667                 (milk)\n",
            "4   0.666667        (butter, bread)\n",
            "5   0.333333           (bread, jam)\n",
            "6   0.666667          (bread, milk)\n",
            "7   0.333333          (butter, jam)\n",
            "8   0.333333         (butter, milk)\n",
            "9   0.333333   (butter, bread, jam)\n",
            "10  0.333333  (butter, bread, milk)\n",
            "\n",
            "Association Rules:\n",
            "         antecedents      consequents  antecedent support  consequent support  \\\n",
            "0          (butter)          (bread)            0.666667            1.000000   \n",
            "1           (bread)         (butter)            1.000000            0.666667   \n",
            "2           (bread)            (jam)            1.000000            0.333333   \n",
            "3             (jam)          (bread)            0.333333            1.000000   \n",
            "4           (bread)           (milk)            1.000000            0.666667   \n",
            "5            (milk)          (bread)            0.666667            1.000000   \n",
            "6          (butter)            (jam)            0.666667            0.333333   \n",
            "7             (jam)         (butter)            0.333333            0.666667   \n",
            "8   (butter, bread)            (jam)            0.666667            0.333333   \n",
            "9     (butter, jam)          (bread)            0.333333            1.000000   \n",
            "10     (bread, jam)         (butter)            0.333333            0.666667   \n",
            "11         (butter)     (bread, jam)            0.666667            0.333333   \n",
            "12          (bread)    (butter, jam)            1.000000            0.333333   \n",
            "13            (jam)  (butter, bread)            0.333333            0.666667   \n",
            "14   (butter, milk)          (bread)            0.333333            1.000000   \n",
            "15          (bread)   (butter, milk)            1.000000            0.333333   \n",
            "\n",
            "     support  confidence  lift  representativity  leverage  conviction  \\\n",
            "0   0.666667    1.000000   1.0               1.0  0.000000         inf   \n",
            "1   0.666667    0.666667   1.0               1.0  0.000000    1.000000   \n",
            "2   0.333333    0.333333   1.0               1.0  0.000000    1.000000   \n",
            "3   0.333333    1.000000   1.0               1.0  0.000000         inf   \n",
            "4   0.666667    0.666667   1.0               1.0  0.000000    1.000000   \n",
            "5   0.666667    1.000000   1.0               1.0  0.000000         inf   \n",
            "6   0.333333    0.500000   1.5               1.0  0.111111    1.333333   \n",
            "7   0.333333    1.000000   1.5               1.0  0.111111         inf   \n",
            "8   0.333333    0.500000   1.5               1.0  0.111111    1.333333   \n",
            "9   0.333333    1.000000   1.0               1.0  0.000000         inf   \n",
            "10  0.333333    1.000000   1.5               1.0  0.111111         inf   \n",
            "11  0.333333    0.500000   1.5               1.0  0.111111    1.333333   \n",
            "12  0.333333    0.333333   1.0               1.0  0.000000    1.000000   \n",
            "13  0.333333    1.000000   1.5               1.0  0.111111         inf   \n",
            "14  0.333333    1.000000   1.0               1.0  0.000000         inf   \n",
            "15  0.333333    0.333333   1.0               1.0  0.000000    1.000000   \n",
            "\n",
            "    zhangs_metric   jaccard  certainty  kulczynski  \n",
            "0             0.0  0.666667       0.00    0.833333  \n",
            "1             0.0  0.666667       0.00    0.833333  \n",
            "2             0.0  0.333333       0.00    0.666667  \n",
            "3             0.0  0.333333       0.00    0.666667  \n",
            "4             0.0  0.666667       0.00    0.833333  \n",
            "5             0.0  0.666667       0.00    0.833333  \n",
            "6             1.0  0.500000       0.25    0.750000  \n",
            "7             0.5  0.500000       1.00    0.750000  \n",
            "8             1.0  0.500000       0.25    0.750000  \n",
            "9             0.0  0.333333       0.00    0.666667  \n",
            "10            0.5  0.500000       1.00    0.750000  \n",
            "11            1.0  0.500000       0.25    0.750000  \n",
            "12            0.0  0.333333       0.00    0.666667  \n",
            "13            0.5  0.500000       1.00    0.750000  \n",
            "14            0.0  0.333333       0.00    0.666667  \n",
            "15            0.0  0.333333       0.00    0.666667  \n"
          ]
        }
      ]
    },
    {
      "cell_type": "code",
      "source": [
        "# Analyzing and Interpreting Results\n",
        "# You can further analyze 'filtered_rules' to find meaningful relationships.\n",
        "# For example, you can sort the rules by lift or confidence to identify the strongest associations.\n",
        "print(\"\\nAssociation rules sorted by lift:\\n\", filtered_rules.sort_values('lift', ascending=False))\n",
        "\n",
        "print(\"\\nAssociation rules sorted by confidence:\\n\", filtered_rules.sort_values('confidence', ascending=False))"
      ],
      "metadata": {
        "colab": {
          "base_uri": "https://localhost:8080/"
        },
        "id": "hEcVkdhF5kNd",
        "outputId": "eab8f715-e51b-4ebb-c572-331c0a89e22e"
      },
      "execution_count": 112,
      "outputs": [
        {
          "output_type": "stream",
          "name": "stdout",
          "text": [
            "\n",
            "Association rules sorted by lift:\n",
            "         antecedents      consequents  antecedent support  consequent support  \\\n",
            "6          (butter)            (jam)            0.666667            0.333333   \n",
            "7             (jam)         (butter)            0.333333            0.666667   \n",
            "8   (butter, bread)            (jam)            0.666667            0.333333   \n",
            "10     (bread, jam)         (butter)            0.333333            0.666667   \n",
            "11         (butter)     (bread, jam)            0.666667            0.333333   \n",
            "13            (jam)  (butter, bread)            0.333333            0.666667   \n",
            "0          (butter)          (bread)            0.666667            1.000000   \n",
            "1           (bread)         (butter)            1.000000            0.666667   \n",
            "2           (bread)            (jam)            1.000000            0.333333   \n",
            "3             (jam)          (bread)            0.333333            1.000000   \n",
            "4           (bread)           (milk)            1.000000            0.666667   \n",
            "5            (milk)          (bread)            0.666667            1.000000   \n",
            "9     (butter, jam)          (bread)            0.333333            1.000000   \n",
            "12          (bread)    (butter, jam)            1.000000            0.333333   \n",
            "14   (butter, milk)          (bread)            0.333333            1.000000   \n",
            "15          (bread)   (butter, milk)            1.000000            0.333333   \n",
            "\n",
            "     support  confidence  lift  representativity  leverage  conviction  \\\n",
            "6   0.333333    0.500000   1.5               1.0  0.111111    1.333333   \n",
            "7   0.333333    1.000000   1.5               1.0  0.111111         inf   \n",
            "8   0.333333    0.500000   1.5               1.0  0.111111    1.333333   \n",
            "10  0.333333    1.000000   1.5               1.0  0.111111         inf   \n",
            "11  0.333333    0.500000   1.5               1.0  0.111111    1.333333   \n",
            "13  0.333333    1.000000   1.5               1.0  0.111111         inf   \n",
            "0   0.666667    1.000000   1.0               1.0  0.000000         inf   \n",
            "1   0.666667    0.666667   1.0               1.0  0.000000    1.000000   \n",
            "2   0.333333    0.333333   1.0               1.0  0.000000    1.000000   \n",
            "3   0.333333    1.000000   1.0               1.0  0.000000         inf   \n",
            "4   0.666667    0.666667   1.0               1.0  0.000000    1.000000   \n",
            "5   0.666667    1.000000   1.0               1.0  0.000000         inf   \n",
            "9   0.333333    1.000000   1.0               1.0  0.000000         inf   \n",
            "12  0.333333    0.333333   1.0               1.0  0.000000    1.000000   \n",
            "14  0.333333    1.000000   1.0               1.0  0.000000         inf   \n",
            "15  0.333333    0.333333   1.0               1.0  0.000000    1.000000   \n",
            "\n",
            "    zhangs_metric   jaccard  certainty  kulczynski  \n",
            "6             1.0  0.500000       0.25    0.750000  \n",
            "7             0.5  0.500000       1.00    0.750000  \n",
            "8             1.0  0.500000       0.25    0.750000  \n",
            "10            0.5  0.500000       1.00    0.750000  \n",
            "11            1.0  0.500000       0.25    0.750000  \n",
            "13            0.5  0.500000       1.00    0.750000  \n",
            "0             0.0  0.666667       0.00    0.833333  \n",
            "1             0.0  0.666667       0.00    0.833333  \n",
            "2             0.0  0.333333       0.00    0.666667  \n",
            "3             0.0  0.333333       0.00    0.666667  \n",
            "4             0.0  0.666667       0.00    0.833333  \n",
            "5             0.0  0.666667       0.00    0.833333  \n",
            "9             0.0  0.333333       0.00    0.666667  \n",
            "12            0.0  0.333333       0.00    0.666667  \n",
            "14            0.0  0.333333       0.00    0.666667  \n",
            "15            0.0  0.333333       0.00    0.666667  \n",
            "\n",
            "Association rules sorted by confidence:\n",
            "         antecedents      consequents  antecedent support  consequent support  \\\n",
            "0          (butter)          (bread)            0.666667            1.000000   \n",
            "3             (jam)          (bread)            0.333333            1.000000   \n",
            "5            (milk)          (bread)            0.666667            1.000000   \n",
            "7             (jam)         (butter)            0.333333            0.666667   \n",
            "9     (butter, jam)          (bread)            0.333333            1.000000   \n",
            "10     (bread, jam)         (butter)            0.333333            0.666667   \n",
            "13            (jam)  (butter, bread)            0.333333            0.666667   \n",
            "14   (butter, milk)          (bread)            0.333333            1.000000   \n",
            "1           (bread)         (butter)            1.000000            0.666667   \n",
            "4           (bread)           (milk)            1.000000            0.666667   \n",
            "6          (butter)            (jam)            0.666667            0.333333   \n",
            "8   (butter, bread)            (jam)            0.666667            0.333333   \n",
            "11         (butter)     (bread, jam)            0.666667            0.333333   \n",
            "2           (bread)            (jam)            1.000000            0.333333   \n",
            "12          (bread)    (butter, jam)            1.000000            0.333333   \n",
            "15          (bread)   (butter, milk)            1.000000            0.333333   \n",
            "\n",
            "     support  confidence  lift  representativity  leverage  conviction  \\\n",
            "0   0.666667    1.000000   1.0               1.0  0.000000         inf   \n",
            "3   0.333333    1.000000   1.0               1.0  0.000000         inf   \n",
            "5   0.666667    1.000000   1.0               1.0  0.000000         inf   \n",
            "7   0.333333    1.000000   1.5               1.0  0.111111         inf   \n",
            "9   0.333333    1.000000   1.0               1.0  0.000000         inf   \n",
            "10  0.333333    1.000000   1.5               1.0  0.111111         inf   \n",
            "13  0.333333    1.000000   1.5               1.0  0.111111         inf   \n",
            "14  0.333333    1.000000   1.0               1.0  0.000000         inf   \n",
            "1   0.666667    0.666667   1.0               1.0  0.000000    1.000000   \n",
            "4   0.666667    0.666667   1.0               1.0  0.000000    1.000000   \n",
            "6   0.333333    0.500000   1.5               1.0  0.111111    1.333333   \n",
            "8   0.333333    0.500000   1.5               1.0  0.111111    1.333333   \n",
            "11  0.333333    0.500000   1.5               1.0  0.111111    1.333333   \n",
            "2   0.333333    0.333333   1.0               1.0  0.000000    1.000000   \n",
            "12  0.333333    0.333333   1.0               1.0  0.000000    1.000000   \n",
            "15  0.333333    0.333333   1.0               1.0  0.000000    1.000000   \n",
            "\n",
            "    zhangs_metric   jaccard  certainty  kulczynski  \n",
            "0             0.0  0.666667       0.00    0.833333  \n",
            "3             0.0  0.333333       0.00    0.666667  \n",
            "5             0.0  0.666667       0.00    0.833333  \n",
            "7             0.5  0.500000       1.00    0.750000  \n",
            "9             0.0  0.333333       0.00    0.666667  \n",
            "10            0.5  0.500000       1.00    0.750000  \n",
            "13            0.5  0.500000       1.00    0.750000  \n",
            "14            0.0  0.333333       0.00    0.666667  \n",
            "1             0.0  0.666667       0.00    0.833333  \n",
            "4             0.0  0.666667       0.00    0.833333  \n",
            "6             1.0  0.500000       0.25    0.750000  \n",
            "8             1.0  0.500000       0.25    0.750000  \n",
            "11            1.0  0.500000       0.25    0.750000  \n",
            "2             0.0  0.333333       0.00    0.666667  \n",
            "12            0.0  0.333333       0.00    0.666667  \n",
            "15            0.0  0.333333       0.00    0.666667  \n"
          ]
        }
      ]
    },
    {
      "cell_type": "markdown",
      "source": [
        "Analysis and Interpretation:"
      ],
      "metadata": {
        "id": "KaXmv-Z26afN"
      }
    },
    {
      "cell_type": "code",
      "source": [
        "# Analyze the generated rules\n",
        "print(\"\\nAnalysis of Association Rules:\")\n",
        "\n",
        "# Identify interesting patterns and relationships\n",
        "print(\"Interesting Patterns and Relationships:\")\n",
        "for index, row in rules.iterrows():\n",
        "    antecedents = list(row['antecedents'])\n",
        "    consequents = list(row['consequents'])\n",
        "    support = row['support']\n",
        "    confidence = row['confidence']\n",
        "    lift = row['lift']\n",
        "\n",
        "    print(f\"Rule: {antecedents} => {consequents}\")\n",
        "    print(f\"  Support: {support:.4f}, Confidence: {confidence:.4f}, Lift: {lift:.4f}\")\n",
        "\n",
        "    if lift > 1.5:  # Example threshold: Highlight rules with high lift\n",
        "        print(\"  High Lift: This rule suggests a strong association between items.\")\n",
        "    elif lift < 0.5: # Example threshold: Highlight rules with weak lift\n",
        "        print(\"  Low Lift: This rule suggests a weak association between items.\")\n",
        "\n",
        "#Interpret results and provide insights\n",
        "print(\"\\nInsights into Customer Purchasing Behavior:\")"
      ],
      "metadata": {
        "colab": {
          "base_uri": "https://localhost:8080/"
        },
        "id": "xP39Hdni7yeC",
        "outputId": "70b55a40-7c49-47a6-ef2b-6756da1dbf56"
      },
      "execution_count": 113,
      "outputs": [
        {
          "output_type": "stream",
          "name": "stdout",
          "text": [
            "\n",
            "Analysis of Association Rules:\n",
            "Interesting Patterns and Relationships:\n",
            "Rule: ['butter'] => ['bread']\n",
            "  Support: 0.6667, Confidence: 1.0000, Lift: 1.0000\n",
            "Rule: ['bread'] => ['butter']\n",
            "  Support: 0.6667, Confidence: 0.6667, Lift: 1.0000\n",
            "Rule: ['bread'] => ['jam']\n",
            "  Support: 0.3333, Confidence: 0.3333, Lift: 1.0000\n",
            "Rule: ['jam'] => ['bread']\n",
            "  Support: 0.3333, Confidence: 1.0000, Lift: 1.0000\n",
            "Rule: ['bread'] => ['milk']\n",
            "  Support: 0.6667, Confidence: 0.6667, Lift: 1.0000\n",
            "Rule: ['milk'] => ['bread']\n",
            "  Support: 0.6667, Confidence: 1.0000, Lift: 1.0000\n",
            "Rule: ['butter'] => ['jam']\n",
            "  Support: 0.3333, Confidence: 0.5000, Lift: 1.5000\n",
            "Rule: ['jam'] => ['butter']\n",
            "  Support: 0.3333, Confidence: 1.0000, Lift: 1.5000\n",
            "Rule: ['butter', 'bread'] => ['jam']\n",
            "  Support: 0.3333, Confidence: 0.5000, Lift: 1.5000\n",
            "Rule: ['butter', 'jam'] => ['bread']\n",
            "  Support: 0.3333, Confidence: 1.0000, Lift: 1.0000\n",
            "Rule: ['bread', 'jam'] => ['butter']\n",
            "  Support: 0.3333, Confidence: 1.0000, Lift: 1.5000\n",
            "Rule: ['butter'] => ['bread', 'jam']\n",
            "  Support: 0.3333, Confidence: 0.5000, Lift: 1.5000\n",
            "Rule: ['bread'] => ['butter', 'jam']\n",
            "  Support: 0.3333, Confidence: 0.3333, Lift: 1.0000\n",
            "Rule: ['jam'] => ['butter', 'bread']\n",
            "  Support: 0.3333, Confidence: 1.0000, Lift: 1.5000\n",
            "Rule: ['butter', 'milk'] => ['bread']\n",
            "  Support: 0.3333, Confidence: 1.0000, Lift: 1.0000\n",
            "Rule: ['bread'] => ['butter', 'milk']\n",
            "  Support: 0.3333, Confidence: 0.3333, Lift: 1.0000\n",
            "\n",
            "Insights into Customer Purchasing Behavior:\n"
          ]
        }
      ]
    },
    {
      "cell_type": "code",
      "source": [
        "# Analyze frequent itemsets for insights\n",
        "print(\"\\nAnalysis of Frequent Itemsets:\")\n",
        "for index, row in frequent_itemsets.iterrows(): # Changed frequency_items to frequent_itemsets\n",
        "    itemset = list(row['itemsets'])\n",
        "    support = row['support']\n",
        "    print(f\"Itemset: {itemset}, Support: {support:.4f}\")\n",
        "    if support > 0.05:  # Example threshold: highlight frequently bought items\n",
        "      print(\"High Support: This itemset is frequently purchased.\")\n",
        "\n",
        "# Analyze rules for actionable insights\n",
        "print(\"\\nActionable Insights from Association Rules:\")\n",
        "for index, row in rules.iterrows():\n",
        "  antecedents = list(row['antecedents'])\n",
        "  consequents = list(row['consequents'])\n",
        "  support = row['support']\n",
        "  confidence = row['confidence']\n",
        "  lift = row['lift']\n",
        "\n",
        "  print(f\"Rule: {antecedents} => {consequents}\")\n",
        "  print(f\"  Support: {support:.4f}, Confidence: {confidence:.4f}, Lift: {lift:.4f}\")\n",
        "\n",
        "  if lift > 1.2:\n",
        "    print(f\"  Recommendation: Consider promoting {consequents} to customers who purchase {antecedents}.\")\n",
        "  if support > 0.03 and confidence > 0.5:\n",
        "    print(f\"  Recommendation: Create product bundles or cross-selling promotions with {antecedents} and {consequents}.\")"
      ],
      "metadata": {
        "colab": {
          "base_uri": "https://localhost:8080/"
        },
        "id": "jgZLkUw38U0a",
        "outputId": "643a2e78-e152-498c-deb4-93ffeae99295"
      },
      "execution_count": 114,
      "outputs": [
        {
          "output_type": "stream",
          "name": "stdout",
          "text": [
            "\n",
            "Analysis of Frequent Itemsets:\n",
            "Itemset: ['bread'], Support: 1.0000\n",
            "High Support: This itemset is frequently purchased.\n",
            "Itemset: ['butter'], Support: 0.6667\n",
            "High Support: This itemset is frequently purchased.\n",
            "Itemset: ['jam'], Support: 0.3333\n",
            "High Support: This itemset is frequently purchased.\n",
            "Itemset: ['milk'], Support: 0.6667\n",
            "High Support: This itemset is frequently purchased.\n",
            "Itemset: ['butter', 'bread'], Support: 0.6667\n",
            "High Support: This itemset is frequently purchased.\n",
            "Itemset: ['bread', 'jam'], Support: 0.3333\n",
            "High Support: This itemset is frequently purchased.\n",
            "Itemset: ['bread', 'milk'], Support: 0.6667\n",
            "High Support: This itemset is frequently purchased.\n",
            "Itemset: ['butter', 'jam'], Support: 0.3333\n",
            "High Support: This itemset is frequently purchased.\n",
            "Itemset: ['butter', 'milk'], Support: 0.3333\n",
            "High Support: This itemset is frequently purchased.\n",
            "Itemset: ['butter', 'bread', 'jam'], Support: 0.3333\n",
            "High Support: This itemset is frequently purchased.\n",
            "Itemset: ['butter', 'bread', 'milk'], Support: 0.3333\n",
            "High Support: This itemset is frequently purchased.\n",
            "\n",
            "Actionable Insights from Association Rules:\n",
            "Rule: ['butter'] => ['bread']\n",
            "  Support: 0.6667, Confidence: 1.0000, Lift: 1.0000\n",
            "  Recommendation: Create product bundles or cross-selling promotions with ['butter'] and ['bread'].\n",
            "Rule: ['bread'] => ['butter']\n",
            "  Support: 0.6667, Confidence: 0.6667, Lift: 1.0000\n",
            "  Recommendation: Create product bundles or cross-selling promotions with ['bread'] and ['butter'].\n",
            "Rule: ['bread'] => ['jam']\n",
            "  Support: 0.3333, Confidence: 0.3333, Lift: 1.0000\n",
            "Rule: ['jam'] => ['bread']\n",
            "  Support: 0.3333, Confidence: 1.0000, Lift: 1.0000\n",
            "  Recommendation: Create product bundles or cross-selling promotions with ['jam'] and ['bread'].\n",
            "Rule: ['bread'] => ['milk']\n",
            "  Support: 0.6667, Confidence: 0.6667, Lift: 1.0000\n",
            "  Recommendation: Create product bundles or cross-selling promotions with ['bread'] and ['milk'].\n",
            "Rule: ['milk'] => ['bread']\n",
            "  Support: 0.6667, Confidence: 1.0000, Lift: 1.0000\n",
            "  Recommendation: Create product bundles or cross-selling promotions with ['milk'] and ['bread'].\n",
            "Rule: ['butter'] => ['jam']\n",
            "  Support: 0.3333, Confidence: 0.5000, Lift: 1.5000\n",
            "  Recommendation: Consider promoting ['jam'] to customers who purchase ['butter'].\n",
            "Rule: ['jam'] => ['butter']\n",
            "  Support: 0.3333, Confidence: 1.0000, Lift: 1.5000\n",
            "  Recommendation: Consider promoting ['butter'] to customers who purchase ['jam'].\n",
            "  Recommendation: Create product bundles or cross-selling promotions with ['jam'] and ['butter'].\n",
            "Rule: ['butter', 'bread'] => ['jam']\n",
            "  Support: 0.3333, Confidence: 0.5000, Lift: 1.5000\n",
            "  Recommendation: Consider promoting ['jam'] to customers who purchase ['butter', 'bread'].\n",
            "Rule: ['butter', 'jam'] => ['bread']\n",
            "  Support: 0.3333, Confidence: 1.0000, Lift: 1.0000\n",
            "  Recommendation: Create product bundles or cross-selling promotions with ['butter', 'jam'] and ['bread'].\n",
            "Rule: ['bread', 'jam'] => ['butter']\n",
            "  Support: 0.3333, Confidence: 1.0000, Lift: 1.5000\n",
            "  Recommendation: Consider promoting ['butter'] to customers who purchase ['bread', 'jam'].\n",
            "  Recommendation: Create product bundles or cross-selling promotions with ['bread', 'jam'] and ['butter'].\n",
            "Rule: ['butter'] => ['bread', 'jam']\n",
            "  Support: 0.3333, Confidence: 0.5000, Lift: 1.5000\n",
            "  Recommendation: Consider promoting ['bread', 'jam'] to customers who purchase ['butter'].\n",
            "Rule: ['bread'] => ['butter', 'jam']\n",
            "  Support: 0.3333, Confidence: 0.3333, Lift: 1.0000\n",
            "Rule: ['jam'] => ['butter', 'bread']\n",
            "  Support: 0.3333, Confidence: 1.0000, Lift: 1.5000\n",
            "  Recommendation: Consider promoting ['butter', 'bread'] to customers who purchase ['jam'].\n",
            "  Recommendation: Create product bundles or cross-selling promotions with ['jam'] and ['butter', 'bread'].\n",
            "Rule: ['butter', 'milk'] => ['bread']\n",
            "  Support: 0.3333, Confidence: 1.0000, Lift: 1.0000\n",
            "  Recommendation: Create product bundles or cross-selling promotions with ['butter', 'milk'] and ['bread'].\n",
            "Rule: ['bread'] => ['butter', 'milk']\n",
            "  Support: 0.3333, Confidence: 0.3333, Lift: 1.0000\n"
          ]
        }
      ]
    },
    {
      "cell_type": "code",
      "source": [],
      "metadata": {
        "id": "S1PjC1xv5sYX"
      },
      "execution_count": 114,
      "outputs": []
    },
    {
      "cell_type": "markdown",
      "source": [
        "#Interview Questions:"
      ],
      "metadata": {
        "id": "l5d7l--p890u"
      }
    },
    {
      "cell_type": "markdown",
      "source": [
        "**1.What is lift and why is it important in Association rules?**\n",
        "\n",
        "Lift is a metric used in association rule mining to measure the strength of the relationship between two items 𝐴A and 𝐵\n",
        "B compared to their expected co-occurrence if they were independent. It quantifies how much more likely items 𝐴A and 𝐵\n",
        "B are to appear together than would be expected if they were unrelated.\n",
        "\n",
        "\n",
        "**Formula for Lift:**\n",
        "\n",
        "Lift(A→B)= Support(A∩B)/Support(A)×Support(B)\n",
        "\n",
        "\n",
        "\n",
        "*   Key: Lift > 1 means 𝐴\n",
        "A and\n",
        "𝐵\n",
        "B are positively associated.\n",
        "\n",
        "\n"
      ],
      "metadata": {
        "id": "wDgIJlkv9qPZ"
      }
    },
    {
      "cell_type": "markdown",
      "source": [
        "**2.What is support and Confidence. How do you calculate them?**\n",
        "\n",
        "**Support:**\n",
        "\n",
        "Support measures how frequently an itemset appears in the dataset.\n",
        "\n",
        "**Formula:**\n",
        "\n",
        "Support(𝐴)=Frequency of transactions containing 𝐴 /Total number of transactions\n",
        "\n",
        " It represents the proportion of transactions in which the itemset occurs. Higher support means the rule is more applicable across the dataset.\n",
        "\n",
        "**Confidence:**\n",
        "\n",
        "Confidence measures how often 𝐵\n",
        "B appears in transactions containing 𝐴A.\n",
        "\n",
        "**Formula:**\n",
        "\n",
        "Confidence(A→B)= Support(A)/Support(A∩B)\n",
        "\n",
        "It reflects the reliability of the rule 𝐴→𝐵\n",
        "A→B by showing the percentage of transactions with 𝐴\n",
        "A that also include 𝐵B.\n",
        "\n"
      ],
      "metadata": {
        "id": "WEwZATbb_H81"
      }
    },
    {
      "cell_type": "markdown",
      "source": [
        "**3. What are some limitations or challenges of Association rules mining?**\n",
        "\n",
        "\n",
        "\n",
        "1. Too Many Rules: Hard to find useful ones.\n",
        "2. Computational Cost: Large datasets are slow to process.\n",
        "3. Sparse Data: Low support for many itemsets.\n",
        "4. Threshold Issues: Subjective support/confidence limits.\n",
        "5. Correlation, Not Causation: Shows relationships, not reasons.\n",
        "6. No Time Factor: Ignores sequence/order of events.\n",
        "7. High Dimensionality: Too many itemsets to handle.\n",
        "   \n",
        "\n"
      ],
      "metadata": {
        "id": "-i88fREgAbfP"
      }
    },
    {
      "cell_type": "code",
      "source": [],
      "metadata": {
        "id": "YTvdxE6xAZg5"
      },
      "execution_count": 114,
      "outputs": []
    }
  ]
}