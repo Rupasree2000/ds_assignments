{
  "nbformat": 4,
  "nbformat_minor": 0,
  "metadata": {
    "colab": {
      "provenance": []
    },
    "kernelspec": {
      "name": "python3",
      "display_name": "Python 3"
    },
    "language_info": {
      "name": "python"
    }
  },
  "cells": [
    {
      "cell_type": "markdown",
      "source": [
        "Hypothesis Testing"
      ],
      "metadata": {
        "id": "D0vJaSu2r4Yw"
      }
    },
    {
      "cell_type": "code",
      "execution_count": 1,
      "metadata": {
        "id": "Mvd3CIVPr1xk"
      },
      "outputs": [],
      "source": [
        "import numpy as np\n",
        "from scipy.stats import norm"
      ]
    },
    {
      "cell_type": "code",
      "source": [
        "data = {1: \"The theoretical weekly operating cost model: W = $1,000 + $5X\",\n",
        "        2: \"Sample of 25 restaurants with a mean weekly cost of Rs. 3,050\",\n",
        "        3: \"Number of units produced in a week (X) follows a normal distribution with a mean (μ) of 600 units and a standard deviation (σ) of 25 units\"}"
      ],
      "metadata": {
        "id": "HnuE10KIsQCx"
      },
      "execution_count": 2,
      "outputs": []
    },
    {
      "cell_type": "code",
      "source": [],
      "metadata": {
        "id": "95B-NCbNsDY0"
      },
      "execution_count": null,
      "outputs": []
    },
    {
      "cell_type": "markdown",
      "source": [
        "1. State the Hypotheses statement:"
      ],
      "metadata": {
        "id": "zY5yLKNCsZ1Y"
      }
    },
    {
      "cell_type": "code",
      "source": [
        "# State the Hypotheses\n",
        "print(\"\\nHypotheses:\")\n",
        "print(\"Null Hypothesis (H0): There is no association between the type of smart home device and customer satisfaction levels.\")\n",
        "print(\"Alternative Hypothesis (H1): There is an association between the type of smart home device and customer satisfaction levels.\")"
      ],
      "metadata": {
        "colab": {
          "base_uri": "https://localhost:8080/"
        },
        "id": "6gUmpHvrsYyK",
        "outputId": "676def3f-25aa-461c-ac23-a210d156bd85"
      },
      "execution_count": 3,
      "outputs": [
        {
          "output_type": "stream",
          "name": "stdout",
          "text": [
            "\n",
            "Hypotheses:\n",
            "Null Hypothesis (H0): There is no association between the type of smart home device and customer satisfaction levels.\n",
            "Alternative Hypothesis (H1): There is an association between the type of smart home device and customer satisfaction levels.\n"
          ]
        }
      ]
    },
    {
      "cell_type": "code",
      "source": [
        "# State the Hypotheses statement\n",
        "print(\"\\nHypotheses:\")\n",
        "\n",
        "print(\"Null Hypothesis (H0): There is no association between the type of smart home device and customer satisfaction levels.\")\n",
        "print(\"In other words, there's no significant difference between the observed average weekly cost and the cost predicted by the model, given the average number of units produced. \")\n",
        "\n",
        "print(\"Alternative Hypothesis (H1): There is an association between the type of smart home device and customer satisfaction levels.\")\n",
        "print(\"There is a significant difference between the observed average weekly cost and the cost predicted by the model, given the average number of units produced.\")"
      ],
      "metadata": {
        "colab": {
          "base_uri": "https://localhost:8080/"
        },
        "id": "_Q7B3mJvsl5H",
        "outputId": "8f15080e-7b72-489a-fffe-e1acba121057"
      },
      "execution_count": 4,
      "outputs": [
        {
          "output_type": "stream",
          "name": "stdout",
          "text": [
            "\n",
            "Hypotheses:\n",
            "Null Hypothesis (H0): There is no association between the type of smart home device and customer satisfaction levels.\n",
            "In other words, there's no significant difference between the observed average weekly cost and the cost predicted by the model, given the average number of units produced. \n",
            "Alternative Hypothesis (H1): There is an association between the type of smart home device and customer satisfaction levels.\n",
            "There is a significant difference between the observed average weekly cost and the cost predicted by the model, given the average number of units produced.\n"
          ]
        }
      ]
    },
    {
      "cell_type": "code",
      "source": [],
      "metadata": {
        "id": "d5_kqMN8smAQ"
      },
      "execution_count": null,
      "outputs": []
    },
    {
      "cell_type": "markdown",
      "source": [
        "2. Calculate the Test Statistic:"
      ],
      "metadata": {
        "id": "0Qcc3q8Is1Tw"
      }
    },
    {
      "cell_type": "code",
      "source": [],
      "metadata": {
        "id": "6dAKse2svJq3"
      },
      "execution_count": null,
      "outputs": []
    },
    {
      "cell_type": "code",
      "source": [
        "# ˉxˉ = sample mean weekly cost (Rs. 3,050)\n",
        "\n",
        "# Given data\n",
        "sample_mean = 3050  # Mean weekly cost of the sample\n",
        "population_mean_x = 600  # Mean number of units produced\n",
        "population_std_x = 25  # Standard deviation of units produced\n",
        "sample_size = 25  # Number of restaurants in the sample\n",
        "\n",
        "# Calculate the theoretical weekly operating cost using the model: W = $1,000 + $5X\n",
        "theoretical_weekly_cost = 1000 + 5 * population_mean_x\n",
        "\n",
        "\n",
        "# Calculate the standard error of the mean (SEM) for the weekly cost.  We are given that X follows a normal distribution.\n",
        "# The theoretical weekly operating cost is also normally distributed because it's a linear transformation of a normal distribution.\n",
        "\n",
        "# The standard deviation of W (the theoretical cost) is 5 * sigma_x, because W = 1000 + 5X\n",
        "std_dev_W = 5 * population_std_x\n",
        "\n",
        "# Standard error of the mean for W\n",
        "sem_W = std_dev_W / np.sqrt(sample_size)\n",
        "\n",
        "# Calculate the test statistic (t)\n",
        "t = (sample_mean - theoretical_weekly_cost) / sem_W\n",
        "\n",
        "print(f\"\\nTest Statistic (t): {t}\")"
      ],
      "metadata": {
        "colab": {
          "base_uri": "https://localhost:8080/"
        },
        "id": "DVINkeoMvDWy",
        "outputId": "8ac4bad7-32b1-47ef-96ce-11d88bea8f41"
      },
      "execution_count": 11,
      "outputs": [
        {
          "output_type": "stream",
          "name": "stdout",
          "text": [
            "\n",
            "Test Statistic (t): -38.0\n"
          ]
        }
      ]
    },
    {
      "cell_type": "code",
      "source": [
        "# Significance level (alpha)\n",
        "alpha = 0.05\n",
        "\n",
        "print(f\"\\nSignificance Level (alpha): {alpha}\")\n",
        "\n",
        "# Conclusion\n",
        "if p_value < alpha:\n",
        "    print(\"\\nConclusion: Reject the null hypothesis.\")\n",
        "    print(\"There is sufficient evidence to suggest that the observed average weekly cost is significantly different from the cost predicted by the model.\")\n",
        "else:\n",
        "    print(\"\\nConclusion: Fail to reject the null hypothesis.\")\n",
        "    print(\"There is not sufficient evidence to suggest that the observed average weekly cost is significantly different from the cost predicted by the model.\")"
      ],
      "metadata": {
        "colab": {
          "base_uri": "https://localhost:8080/"
        },
        "id": "pLeuNDYcvU5e",
        "outputId": "ab2d7253-f640-4374-bbe1-74bcdd5cf194"
      },
      "execution_count": 13,
      "outputs": [
        {
          "output_type": "stream",
          "name": "stdout",
          "text": [
            "\n",
            "Significance Level (alpha): 0.05\n",
            "\n",
            "Conclusion: Reject the null hypothesis.\n",
            "There is sufficient evidence to suggest that the observed average weekly cost is significantly different from the cost predicted by the model.\n"
          ]
        }
      ]
    },
    {
      "cell_type": "code",
      "source": [
        "# μ = theoretical mean weekly cost according to the cost model (W = $1,000 + $5X for X = 600 units)\n",
        "\n",
        "# Calculate the theoretical mean weekly cost (μ)\n",
        "x_bar = 600  # Average number of units produced per week\n",
        "mu = 1000 + 5 * x_bar\n",
        "\n",
        "print(f\"The theoretical mean weekly cost (μ) is: ${mu}\")"
      ],
      "metadata": {
        "colab": {
          "base_uri": "https://localhost:8080/"
        },
        "id": "uBQUkirgvpSA",
        "outputId": "d0ff24d6-3fa2-4da5-8482-693358f4181e"
      },
      "execution_count": 29,
      "outputs": [
        {
          "output_type": "stream",
          "name": "stdout",
          "text": [
            "The theoretical mean weekly cost (μ) is: $4000\n"
          ]
        }
      ]
    },
    {
      "cell_type": "code",
      "source": [
        "# σ = 5*25 units\n",
        "\n",
        "# Calculate the theoretical mean weekly cost (μ)\n",
        "x_bar = 600  # Average number of units produced per week\n",
        "mu = 1000 + 5 * x_bar\n",
        "\n",
        "print(f\"The theoretical mean weekly cost (μ) is: ${mu}\")\n",
        "\n",
        "#The standard deviation of the weekly operating cost (σ) is 5 times the standard deviation of the number of units produced (X)\n",
        "sigma = 5 * 25\n",
        "\n",
        "print(f\"The standard deviation of the weekly operating cost (σ) is: ${sigma}\")"
      ],
      "metadata": {
        "colab": {
          "base_uri": "https://localhost:8080/"
        },
        "id": "nlBBF3Apvxu-",
        "outputId": "2b46fcc0-f41b-41da-db04-2f5dc748399b"
      },
      "execution_count": 15,
      "outputs": [
        {
          "output_type": "stream",
          "name": "stdout",
          "text": [
            "The theoretical mean weekly cost (μ) is: $4000\n",
            "The standard deviation of the weekly operating cost (σ) is: $125\n"
          ]
        }
      ]
    },
    {
      "cell_type": "code",
      "source": [
        "# n = sample size (25 restaurants)\n",
        "\n",
        "import numpy as np\n",
        "from scipy.stats import norm\n",
        "\n",
        "# ... (your existing code)\n",
        "\n",
        "# Given data (already in your code)\n",
        "sample_size = 25  # Number of restaurants in the sample\n",
        "print(f\"\\nSample Size: {sample_size}\")\n",
        "\n",
        "# ... (rest of your existing code)"
      ],
      "metadata": {
        "colab": {
          "base_uri": "https://localhost:8080/"
        },
        "id": "Roh9CllFxwG5",
        "outputId": "ec1d529f-91e2-4fd4-c3f7-b59e32b96d48"
      },
      "execution_count": 28,
      "outputs": [
        {
          "output_type": "stream",
          "name": "stdout",
          "text": [
            "\n",
            "Sample Size: 25\n"
          ]
        }
      ]
    },
    {
      "cell_type": "code",
      "source": [],
      "metadata": {
        "id": "Qip-3C9AxFxn"
      },
      "execution_count": null,
      "outputs": []
    },
    {
      "cell_type": "markdown",
      "source": [
        "3. Determine the Critical Value:"
      ],
      "metadata": {
        "id": "khFqxAaXy5nO"
      }
    },
    {
      "cell_type": "code",
      "source": [
        "# Using the alpha level of 5% (α = 0.05), determine the critical value from the standard normal (Z) distribution table.\n",
        "\n",
        "from scipy.stats import norm\n",
        "\n",
        "# Significance level (alpha)\n",
        "alpha = 0.05\n",
        "\n",
        "# For a two-tailed test, divide alpha by 2\n",
        "alpha_half = alpha / 2\n",
        "\n",
        "# Calculate the critical value\n",
        "critical_value = norm.ppf(1 - alpha_half)\n",
        "\n",
        "print(f\"Critical Value (Z): {critical_value:.2f}\")"
      ],
      "metadata": {
        "colab": {
          "base_uri": "https://localhost:8080/"
        },
        "id": "G38ivNJzy49r",
        "outputId": "5c188c64-07f1-4f5c-83ce-c7bead104f75"
      },
      "execution_count": 30,
      "outputs": [
        {
          "output_type": "stream",
          "name": "stdout",
          "text": [
            "Critical Value (Z): 1.96\n"
          ]
        }
      ]
    },
    {
      "cell_type": "code",
      "source": [],
      "metadata": {
        "id": "mPTbdQ8azHbz"
      },
      "execution_count": null,
      "outputs": []
    },
    {
      "cell_type": "markdown",
      "source": [
        "4. Make a Decision:"
      ],
      "metadata": {
        "id": "awt6v0_qzGkl"
      }
    },
    {
      "cell_type": "code",
      "source": [
        "# Compare the test statistic with the critical value to decide whether to reject the null hypothesis.\n",
        "\n",
        "\n",
        "# Significance level (alpha)\n",
        "alpha = 0.05\n",
        "\n",
        "# For a two-tailed test, divide alpha by 2\n",
        "alpha_half = alpha / 2\n",
        "\n",
        "# Calculate the critical value\n",
        "critical_value = norm.ppf(1 - alpha_half)\n",
        "\n",
        "print(f\"Critical Value (Z): {critical_value:.2f}\")\n",
        "\n",
        "# Make a decision\n",
        "if abs(z_score) > critical_value:\n",
        "    print(\"\\nDecision: Reject the null hypothesis.\")\n",
        "    print(\"The absolute value of the test statistic is greater than the critical value.\")\n",
        "else:\n",
        "    print(\"\\nDecision: Fail to reject the null hypothesis.\")\n",
        "    print(\"The absolute value of the test statistic is not greater than the critical value.\")"
      ],
      "metadata": {
        "colab": {
          "base_uri": "https://localhost:8080/"
        },
        "id": "fINEqaogzFUe",
        "outputId": "73efd93b-568f-4e50-ee29-4a68a406dd2b"
      },
      "execution_count": 32,
      "outputs": [
        {
          "output_type": "stream",
          "name": "stdout",
          "text": [
            "Critical Value (Z): 1.96\n",
            "\n",
            "Decision: Reject the null hypothesis.\n",
            "The absolute value of the test statistic is greater than the critical value.\n"
          ]
        }
      ]
    },
    {
      "cell_type": "code",
      "source": [],
      "metadata": {
        "id": "8F6jCJ2UzT43"
      },
      "execution_count": null,
      "outputs": []
    }
  ]
}