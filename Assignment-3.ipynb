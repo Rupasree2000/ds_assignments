{
  "nbformat": 4,
  "nbformat_minor": 0,
  "metadata": {
    "colab": {
      "provenance": []
    },
    "kernelspec": {
      "name": "python3",
      "display_name": "Python 3"
    },
    "language_info": {
      "name": "python"
    }
  },
  "cells": [
    {
      "cell_type": "markdown",
      "source": [
        "Python Programming Assignment\n",
        "\n"
      ],
      "metadata": {
        "id": "7NHR2O1QYZry"
      }
    },
    {
      "cell_type": "code",
      "execution_count": null,
      "metadata": {
        "id": "9ndpy3iUDm-r"
      },
      "outputs": [],
      "source": [
        "import pandas as pd\n",
        "import numpy as np"
      ]
    },
    {
      "cell_type": "markdown",
      "source": [
        " Prime numbers\n"
      ],
      "metadata": {
        "id": "FU856m2XX_M8"
      }
    },
    {
      "cell_type": "code",
      "source": [
        " # checks whether a given number is prime or not.\n",
        "\n",
        "def is_prime(number):\n",
        "  \"\"\"\n",
        "  Checks if a number is prime.\n",
        "\n",
        "  Args:\n",
        "    number: The number to check.\n",
        "\n",
        "  Returns:\n",
        "    True if the number is prime, False otherwise.\n",
        "  \"\"\"\n",
        "  if number <= 1:\n",
        "    return False\n",
        "  for i in range(2, int(number**0.5) + 1):\n",
        "    if number % i == 0:\n",
        "      return False\n",
        "  return True\n",
        "\n",
        "# Get input from the user\n",
        "num = int(input(\"Enter a number: \"))\n",
        "\n",
        "# Check if the number is prime\n",
        "if is_prime(num):\n",
        "  print(f\"{num} is a prime number.\")\n",
        "else:\n",
        "  print(f\"{num} is not a prime number.\")"
      ],
      "metadata": {
        "colab": {
          "base_uri": "https://localhost:8080/"
        },
        "id": "Az9ii1UGI5BU",
        "outputId": "547e0b15-dc78-4fe3-f4e1-c752c03c9ccc"
      },
      "execution_count": null,
      "outputs": [
        {
          "output_type": "stream",
          "name": "stdout",
          "text": [
            "Enter a number: 3\n",
            "3 is a prime number.\n"
          ]
        }
      ]
    },
    {
      "cell_type": "markdown",
      "source": [
        "Random Numbers\n"
      ],
      "metadata": {
        "id": "UmeVBnp_X7As"
      }
    },
    {
      "cell_type": "code",
      "source": [
        "#  Product of Random Numbers\n",
        "\n",
        "import random\n",
        "\n",
        "# Generate two random numbers\n",
        "num1 = random.randint(1, 10)  # You can adjust the range as needed\n",
        "num2 = random.randint(1, 10)\n",
        "\n",
        "# Calculate the correct product\n",
        "correct_product = num1 * num2\n",
        "\n",
        "# Ask the user for their answer\n",
        "user_answer = int(input(f\"What is the product of {num1} and {num2}? \"))\n",
        "\n",
        "# Check if the user's answer is correct\n",
        "if user_answer == correct_product:\n",
        "  print(\"Correct!\")\n",
        "else:\n",
        "  print(f\"Incorrect. The correct answer is {correct_product}\")"
      ],
      "metadata": {
        "colab": {
          "base_uri": "https://localhost:8080/"
        },
        "id": "9nm-9GBoI5FG",
        "outputId": "11598bb3-fe83-4ab5-f799-e04c89025533"
      },
      "execution_count": null,
      "outputs": [
        {
          "output_type": "stream",
          "name": "stdout",
          "text": [
            "What is the product of 10 and 1? 10\n",
            "Correct!\n"
          ]
        }
      ]
    },
    {
      "cell_type": "code",
      "source": [
        "# Random Numbers\n",
        "\n",
        "import random\n",
        "print(random.randint(1, 10))\n"
      ],
      "metadata": {
        "colab": {
          "base_uri": "https://localhost:8080/"
        },
        "id": "9Lagf7_Rry_W",
        "outputId": "2f853a1b-6555-443f-e190-b947879a3b23"
      },
      "execution_count": null,
      "outputs": [
        {
          "output_type": "stream",
          "name": "stdout",
          "text": [
            "4\n"
          ]
        }
      ]
    },
    {
      "cell_type": "markdown",
      "source": [
        "Squares of Even and Odd Numbers\n"
      ],
      "metadata": {
        "id": "DzVKpieZXwGt"
      }
    },
    {
      "cell_type": "code",
      "source": [
        "# Squares of Even Numbers\n",
        "\n",
        "def squares_of_even_numbers(start, end):\n",
        "  \"\"\"\n",
        "  Prints the squares of all even numbers within a given range.\n",
        "\n",
        "  Args:\n",
        "      start: The starting number of the range (inclusive).\n",
        "      end: The ending number of the range (inclusive).\n",
        "  \"\"\"\n",
        "  for num in range(start, end + 1):\n",
        "    if num % 2 == 0:  # Check for even numbers\n",
        "      print(f\"The square of {num} is {num**2}\")\n",
        "\n",
        "# Example usage:\n",
        "squares_of_even_numbers(1, 10)"
      ],
      "metadata": {
        "colab": {
          "base_uri": "https://localhost:8080/"
        },
        "id": "XJeUpvrxI5LQ",
        "outputId": "2fa4c829-d9fb-42eb-9e45-d4bc64994c4c"
      },
      "execution_count": null,
      "outputs": [
        {
          "output_type": "stream",
          "name": "stdout",
          "text": [
            "The square of 2 is 4\n",
            "The square of 4 is 16\n",
            "The square of 6 is 36\n",
            "The square of 8 is 64\n",
            "The square of 10 is 100\n"
          ]
        }
      ]
    },
    {
      "cell_type": "code",
      "source": [
        "# Squares of Odd Numbers\n",
        "\n",
        "def squares_of_odd_numbers(start, end):\n",
        "  \"\"\"\n",
        "  Prints the squares of all odd numbers within a given range.\n",
        "\n",
        "  Args:\n",
        "      start: The starting number of the range (inclusive).\n",
        "      end: The ending number of the range (inclusive).\n",
        "  \"\"\"\n",
        "  for num in range(start, end + 1):\n",
        "    if num % 2 != 0:  # Check for odd numbers\n",
        "      print(f\"The square of {num} is {num**2}\")\n",
        "\n",
        "\n",
        "# Example usage:\n",
        "squares_of_odd_numbers(1, 20)"
      ],
      "metadata": {
        "colab": {
          "base_uri": "https://localhost:8080/"
        },
        "id": "RCF3brRFkcvy",
        "outputId": "3d493ce4-eec3-4f02-852d-01ace22309f3"
      },
      "execution_count": null,
      "outputs": [
        {
          "output_type": "stream",
          "name": "stdout",
          "text": [
            "The square of 1 is 1\n",
            "The square of 3 is 9\n",
            "The square of 5 is 25\n",
            "The square of 7 is 49\n",
            "The square of 9 is 81\n",
            "The square of 11 is 121\n",
            "The square of 13 is 169\n",
            "The square of 15 is 225\n",
            "The square of 17 is 289\n",
            "The square of 19 is 361\n"
          ]
        }
      ]
    },
    {
      "cell_type": "markdown",
      "source": [
        "Word counter"
      ],
      "metadata": {
        "id": "r9rtzFOVZbsX"
      }
    },
    {
      "cell_type": "code",
      "source": [
        "# The program to count the number of words in a given text\n",
        "\n",
        "import re\n",
        "\n",
        "def count_words(text):\n",
        "  \"\"\"Counts the number of words in a given text.\n",
        "\n",
        "  Args:\n",
        "    text: The input text as a string.\n",
        "\n",
        "  Returns:\n",
        "    The number of words in the text.\n",
        "  \"\"\"\n",
        "  words = re.findall(r'\\b\\w+\\b', text)  # Find all words using regular expressions\n",
        "  return len(words)\n",
        "\n",
        "# Example usage\n",
        "input_text = \"This is a sample text.\"\n",
        "word_count = count_words(input_text)\n",
        "print(f\"The text contains {word_count} words.\")"
      ],
      "metadata": {
        "colab": {
          "base_uri": "https://localhost:8080/"
        },
        "id": "0T29ooVrkc2u",
        "outputId": "a727bf23-edea-4805-ecaa-f6da1137226d"
      },
      "execution_count": null,
      "outputs": [
        {
          "output_type": "stream",
          "name": "stdout",
          "text": [
            "The text contains 5 words.\n"
          ]
        }
      ]
    },
    {
      "cell_type": "code",
      "source": [],
      "metadata": {
        "id": "G4fuGBBsGshn"
      },
      "execution_count": null,
      "outputs": []
    },
    {
      "cell_type": "markdown",
      "source": [
        "Palindrome\n",
        "\n",
        "function which return reverse of a string"
      ],
      "metadata": {
        "id": "YC_aBN2baEFs"
      }
    },
    {
      "cell_type": "code",
      "source": [
        "# True if the string is a palindrome\n",
        "\n",
        "import re\n",
        "\n",
        "def is_palindrome(text):\n",
        "    \"\"\"\n",
        "    Checks if a string is a palindrome.\n",
        "\n",
        "    Args:\n",
        "      text: The input string.\n",
        "\n",
        "    Returns:\n",
        "      True if the string is a palindrome, False otherwise.\n",
        "    \"\"\"\n",
        "    processed_text = re.sub(r'[^a-zA-Z0-9]', '', text).lower()\n",
        "    return processed_text == processed_text[::-1]\n",
        "\n",
        "# Example usage (Corrected):\n",
        "print(is_palindrome(\"racecar\"))"
      ],
      "metadata": {
        "colab": {
          "base_uri": "https://localhost:8080/"
        },
        "id": "fjaeSSzzVwFS",
        "outputId": "41b84cba-a8ff-44e7-99b6-a930b7087956"
      },
      "execution_count": null,
      "outputs": [
        {
          "output_type": "stream",
          "name": "stdout",
          "text": [
            "True\n"
          ]
        }
      ]
    },
    {
      "cell_type": "code",
      "source": [
        "# False  if the string is a palindrome\n",
        "\n",
        "import re\n",
        "\n",
        "def is_palindrome(text):\n",
        "    \"\"\"\n",
        "    Checks if a string is a palindrome.\n",
        "\n",
        "    Args:\n",
        "      text: The input string.\n",
        "\n",
        "    Returns:\n",
        "      True if the string is a palindrome, False otherwise.\n",
        "    \"\"\"\n",
        "    processed_text = re.sub(r'[^a-zA-Z0-9]', '', text).lower()\n",
        "    return processed_text == processed_text[::-1]\n",
        "\n",
        "# Example usage (Corrected):\n",
        "print(is_palindrome(\"hello\"))  # Output: False"
      ],
      "metadata": {
        "colab": {
          "base_uri": "https://localhost:8080/"
        },
        "id": "9KFCb_bIV_pY",
        "outputId": "16ed3b43-055d-4dea-8ca8-6cfe8b68bfb4"
      },
      "execution_count": null,
      "outputs": [
        {
          "output_type": "stream",
          "name": "stdout",
          "text": [
            "False\n"
          ]
        }
      ]
    },
    {
      "cell_type": "code",
      "source": [],
      "metadata": {
        "id": "IJJakZoCV_tz"
      },
      "execution_count": null,
      "outputs": []
    },
    {
      "cell_type": "code",
      "source": [],
      "metadata": {
        "id": "HI0fwxfdVWKP"
      },
      "execution_count": null,
      "outputs": []
    }
  ]
}