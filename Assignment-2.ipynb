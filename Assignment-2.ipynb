{
  "nbformat": 4,
  "nbformat_minor": 0,
  "metadata": {
    "colab": {
      "provenance": []
    },
    "kernelspec": {
      "name": "python3",
      "display_name": "Python 3"
    },
    "language_info": {
      "name": "python"
    }
  },
  "cells": [
    {
      "cell_type": "markdown",
      "source": [
        "Estimation And Confidence Intervals"
      ],
      "metadata": {
        "id": "r12QO9AwWutb"
      }
    },
    {
      "cell_type": "code",
      "execution_count": 1,
      "metadata": {
        "id": "M9tfHTiOUCyk"
      },
      "outputs": [],
      "source": [
        "import pandas as pd\n",
        "import numpy as np\n",
        "from scipy import stats"
      ]
    },
    {
      "cell_type": "code",
      "source": [
        "Sample_data = [1.13, 1.55, 1.43, 0.92, 1.25, 1.36, 1.32, 0.85, 1.07, 1.48, 1.20, 1.33, 1.18, 1.22, 1.29]"
      ],
      "metadata": {
        "id": "TAO1a_CDUn8E"
      },
      "execution_count": 2,
      "outputs": []
    },
    {
      "cell_type": "code",
      "source": [
        "# Calculate the sample mean\n",
        "sample_mean = np.mean(Sample_data)\n",
        "print(f\"Sample Mean: {sample_mean}\")"
      ],
      "metadata": {
        "colab": {
          "base_uri": "https://localhost:8080/"
        },
        "id": "JsmvfaNyUoC-",
        "outputId": "cfcb0cbd-e4d7-4458-d134-300b22f80e19"
      },
      "execution_count": 3,
      "outputs": [
        {
          "output_type": "stream",
          "name": "stdout",
          "text": [
            "Sample Mean: 1.2386666666666666\n"
          ]
        }
      ]
    },
    {
      "cell_type": "code",
      "source": [
        "# Calculate the sample standard deviation\n",
        "sample_std_dev = np.std(Sample_data, ddof=1)  # Use ddof=1 for sample standard deviation\n",
        "print(f\"Sample Standard Deviation: {sample_std_dev}\")\n"
      ],
      "metadata": {
        "colab": {
          "base_uri": "https://localhost:8080/"
        },
        "id": "fNQV5zUFUoH8",
        "outputId": "4ddcc220-61c8-4072-f677-b300f71ab310"
      },
      "execution_count": 4,
      "outputs": [
        {
          "output_type": "stream",
          "name": "stdout",
          "text": [
            "Sample Standard Deviation: 0.19316412956959936\n"
          ]
        }
      ]
    },
    {
      "cell_type": "code",
      "source": [
        "# Calculate the sample variance\n",
        "sample_variance = np.var(Sample_data, ddof=1) # Use ddof=1 for sample variance\n",
        "print(f\"Sample Variance: {sample_variance}\")"
      ],
      "metadata": {
        "colab": {
          "base_uri": "https://localhost:8080/"
        },
        "id": "IWJSAhmRVYE9",
        "outputId": "92f6598b-1406-44a6-afb1-16bc4853ad98"
      },
      "execution_count": 5,
      "outputs": [
        {
          "output_type": "stream",
          "name": "stdout",
          "text": [
            "Sample Variance: 0.037312380952380965\n"
          ]
        }
      ]
    },
    {
      "cell_type": "code",
      "source": [],
      "metadata": {
        "id": "S5DremRXak1u"
      },
      "execution_count": 5,
      "outputs": []
    },
    {
      "cell_type": "code",
      "source": [
        "# Build 99% Confidence Interval Using Sample Standard Deviation"
      ],
      "metadata": {
        "id": "ujogqfJkz5zb"
      },
      "execution_count": 6,
      "outputs": []
    },
    {
      "cell_type": "code",
      "source": [
        "import numpy as np\n",
        "from scipy.stats import t"
      ],
      "metadata": {
        "id": "oU5G6Tj7ZhBY"
      },
      "execution_count": 7,
      "outputs": []
    },
    {
      "cell_type": "code",
      "source": [
        "Sample_data = [1.13, 1.55, 1.43, 0.92, 1.25, 1.36, 1.32, 0.85, 1.07, 1.48, 1.20, 1.33, 1.18, 1.22, 1.29]"
      ],
      "metadata": {
        "id": "Ep6gs4sdZgzb"
      },
      "execution_count": 8,
      "outputs": []
    },
    {
      "cell_type": "code",
      "source": [
        "# Calculate the sample size\n",
        "n = len(Sample_data)\n",
        "print(f\"Sample Size: {n}\")\n",
        "\n",
        "# Calculate the degrees of freedom\n",
        "degrees_of_freedom = n - 1"
      ],
      "metadata": {
        "colab": {
          "base_uri": "https://localhost:8080/"
        },
        "id": "iZ9Sl-7Mbtuu",
        "outputId": "99c83c26-44d6-44df-c6b7-c8604b1cac3a"
      },
      "execution_count": 9,
      "outputs": [
        {
          "output_type": "stream",
          "name": "stdout",
          "text": [
            "Sample Size: 15\n"
          ]
        }
      ]
    },
    {
      "cell_type": "code",
      "source": [
        "# Find the critical t-value for a 99% confidence interval\n",
        "confidence_level = 0.99\n",
        "alpha = 1 - confidence_level\n",
        "critical_t_value = t.ppf(1 - alpha/2, df=degrees_of_freedom) #t.ppf(0.995, 14)\n",
        "print(f\"Critical t-value: {critical_t_value}\")"
      ],
      "metadata": {
        "colab": {
          "base_uri": "https://localhost:8080/"
        },
        "id": "VHzdjiQFbt0q",
        "outputId": "940d9ff1-fc8f-46b1-fd32-a79bf8283a16"
      },
      "execution_count": 10,
      "outputs": [
        {
          "output_type": "stream",
          "name": "stdout",
          "text": [
            "Critical t-value: 2.976842734370834\n"
          ]
        }
      ]
    },
    {
      "cell_type": "code",
      "source": [
        "# Calculate the margin of error\n",
        "margin_of_error = critical_t_value * (sample_std_dev / np.sqrt(n))\n",
        "print(f\"Margin of Error: {margin_of_error}\")\n"
      ],
      "metadata": {
        "colab": {
          "base_uri": "https://localhost:8080/"
        },
        "id": "gWF__UHvb4_h",
        "outputId": "97d9c72b-5223-481c-8a65-640b93854515"
      },
      "execution_count": 11,
      "outputs": [
        {
          "output_type": "stream",
          "name": "stdout",
          "text": [
            "Margin of Error: 0.14846932822817596\n"
          ]
        }
      ]
    },
    {
      "cell_type": "code",
      "source": [
        "# Calculate the confidence interval\n",
        "lower_bound = sample_mean - margin_of_error\n",
        "upper_bound = sample_mean + margin_of_error\n",
        "print(f\"99% Confidence Interval: ({lower_bound}, {upper_bound})\")\n"
      ],
      "metadata": {
        "colab": {
          "base_uri": "https://localhost:8080/"
        },
        "id": "Fn8h60nib5Dg",
        "outputId": "0d8392cf-8abe-4c8f-f8ff-840601c7452b"
      },
      "execution_count": 12,
      "outputs": [
        {
          "output_type": "stream",
          "name": "stdout",
          "text": [
            "99% Confidence Interval: (1.0901973384384906, 1.3871359948948425)\n"
          ]
        }
      ]
    },
    {
      "cell_type": "code",
      "source": [],
      "metadata": {
        "id": "uMO2wSpJdkW0"
      },
      "execution_count": 12,
      "outputs": []
    },
    {
      "cell_type": "code",
      "source": [
        "# Build 99% Confidence Interval Using Known Population Standard Deviation"
      ],
      "metadata": {
        "id": "x326cXNS9he-"
      },
      "execution_count": 13,
      "outputs": []
    },
    {
      "cell_type": "code",
      "source": [
        "import numpy as np\n",
        "from scipy.stats import norm"
      ],
      "metadata": {
        "id": "5SI79jPG9sFh"
      },
      "execution_count": 14,
      "outputs": []
    },
    {
      "cell_type": "code",
      "source": [
        "Sample_data = [1.13, 1.55, 1.43, 0.92, 1.25, 1.36, 1.32, 0.85, 1.07, 1.48, 1.20, 1.33, 1.18, 1.22, 1.29]"
      ],
      "metadata": {
        "id": "HFA1ExWx9sRv"
      },
      "execution_count": 15,
      "outputs": []
    },
    {
      "cell_type": "code",
      "source": [
        "# Population standard deviation\n",
        "population_std_dev = 0.2\n",
        "\n",
        "# Calculate the sample mean\n",
        "sample_mean = np.mean(Sample_data)\n",
        "\n",
        "# Calculate the sample size\n",
        "n = len(Sample_data)"
      ],
      "metadata": {
        "id": "8L4Xgjjj9vUu"
      },
      "execution_count": 16,
      "outputs": []
    },
    {
      "cell_type": "code",
      "source": [
        "# Calculate the critical z-value for a 99% confidence interval\n",
        "confidence_level = 0.99\n",
        "alpha = 1 - confidence_level\n",
        "critical_z_value = norm.ppf(1 - alpha / 2)"
      ],
      "metadata": {
        "id": "qfmRoISR9vZw"
      },
      "execution_count": 17,
      "outputs": []
    },
    {
      "cell_type": "code",
      "source": [
        "# Calculate the margin of error\n",
        "margin_of_error = critical_z_value * (population_std_dev / np.sqrt(n))"
      ],
      "metadata": {
        "id": "EnePEIT393iQ"
      },
      "execution_count": 18,
      "outputs": []
    },
    {
      "cell_type": "code",
      "source": [
        "# Calculate the confidence interval\n",
        "lower_bound = sample_mean - margin_of_error\n",
        "upper_bound = sample_mean + margin_of_error\n",
        "\n",
        "print(f\"99% confidance interval for population standard Deviation: ({lower_bound}, {upper_bound})\")\n"
      ],
      "metadata": {
        "colab": {
          "base_uri": "https://localhost:8080/"
        },
        "id": "gFj2UZaE93mn",
        "outputId": "d84a2566-44bd-4da3-cdc6-4f7d35c38c4a"
      },
      "execution_count": 19,
      "outputs": [
        {
          "output_type": "stream",
          "name": "stdout",
          "text": [
            "99% confidance interval for population standard Deviation: (1.1056514133957607, 1.3716819199375725)\n"
          ]
        }
      ]
    },
    {
      "cell_type": "code",
      "source": [],
      "metadata": {
        "id": "Nsox_7af-WuJ"
      },
      "execution_count": 19,
      "outputs": []
    }
  ]
}